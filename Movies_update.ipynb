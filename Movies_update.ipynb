{
 "cells": [
  {
   "cell_type": "markdown",
   "metadata": {},
   "source": [
    "Analisando a base de dados Movies-on-netflix-prime-hulu\n",
    "\n",
    "\n"
   ]
  },
  {
   "cell_type": "code",
   "execution_count": 256,
   "metadata": {
    "scrolled": true
   },
   "outputs": [
    {
     "name": "stdout",
     "output_type": "stream",
     "text": [
      "Populating the interactive namespace from numpy and matplotlib\n"
     ]
    }
   ],
   "source": [
    "import pandas as pd\n",
    "%matplotlib inline\n",
    "%pylab inline\n",
    "import matplotlib.pyplot as plt\n",
    "import seaborn as sns\n",
    "plt.style.use('ggplot')\n",
    "import pandas_profiling"
   ]
  },
  {
   "cell_type": "code",
   "execution_count": 257,
   "metadata": {
    "scrolled": true
   },
   "outputs": [],
   "source": [
    "df= pd.read_csv('MoviesOnStreamingPlatforms_updated.csv', sep=',' )"
   ]
  },
  {
   "cell_type": "code",
   "execution_count": 258,
   "metadata": {
    "scrolled": true
   },
   "outputs": [
    {
     "data": {
      "text/html": [
       "<div>\n",
       "<style scoped>\n",
       "    .dataframe tbody tr th:only-of-type {\n",
       "        vertical-align: middle;\n",
       "    }\n",
       "\n",
       "    .dataframe tbody tr th {\n",
       "        vertical-align: top;\n",
       "    }\n",
       "\n",
       "    .dataframe thead th {\n",
       "        text-align: right;\n",
       "    }\n",
       "</style>\n",
       "<table border=\"1\" class=\"dataframe\">\n",
       "  <thead>\n",
       "    <tr style=\"text-align: right;\">\n",
       "      <th></th>\n",
       "      <th>Unnamed: 0</th>\n",
       "      <th>ID</th>\n",
       "      <th>Title</th>\n",
       "      <th>Year</th>\n",
       "      <th>Age</th>\n",
       "      <th>IMDb</th>\n",
       "      <th>Rotten Tomatoes</th>\n",
       "      <th>Netflix</th>\n",
       "      <th>Hulu</th>\n",
       "      <th>Prime Video</th>\n",
       "      <th>Disney+</th>\n",
       "      <th>Type</th>\n",
       "      <th>Directors</th>\n",
       "      <th>Genres</th>\n",
       "      <th>Country</th>\n",
       "      <th>Language</th>\n",
       "      <th>Runtime</th>\n",
       "    </tr>\n",
       "  </thead>\n",
       "  <tbody>\n",
       "    <tr>\n",
       "      <th>0</th>\n",
       "      <td>0</td>\n",
       "      <td>1</td>\n",
       "      <td>Inception</td>\n",
       "      <td>2010</td>\n",
       "      <td>13+</td>\n",
       "      <td>8.8</td>\n",
       "      <td>87%</td>\n",
       "      <td>1</td>\n",
       "      <td>0</td>\n",
       "      <td>0</td>\n",
       "      <td>0</td>\n",
       "      <td>0</td>\n",
       "      <td>Christopher Nolan</td>\n",
       "      <td>Action,Adventure,Sci-Fi,Thriller</td>\n",
       "      <td>United States,United Kingdom</td>\n",
       "      <td>English,Japanese,French</td>\n",
       "      <td>148.0</td>\n",
       "    </tr>\n",
       "    <tr>\n",
       "      <th>1</th>\n",
       "      <td>1</td>\n",
       "      <td>2</td>\n",
       "      <td>The Matrix</td>\n",
       "      <td>1999</td>\n",
       "      <td>18+</td>\n",
       "      <td>8.7</td>\n",
       "      <td>87%</td>\n",
       "      <td>1</td>\n",
       "      <td>0</td>\n",
       "      <td>0</td>\n",
       "      <td>0</td>\n",
       "      <td>0</td>\n",
       "      <td>Lana Wachowski,Lilly Wachowski</td>\n",
       "      <td>Action,Sci-Fi</td>\n",
       "      <td>United States</td>\n",
       "      <td>English</td>\n",
       "      <td>136.0</td>\n",
       "    </tr>\n",
       "    <tr>\n",
       "      <th>2</th>\n",
       "      <td>2</td>\n",
       "      <td>3</td>\n",
       "      <td>Avengers: Infinity War</td>\n",
       "      <td>2018</td>\n",
       "      <td>13+</td>\n",
       "      <td>8.5</td>\n",
       "      <td>84%</td>\n",
       "      <td>1</td>\n",
       "      <td>0</td>\n",
       "      <td>0</td>\n",
       "      <td>0</td>\n",
       "      <td>0</td>\n",
       "      <td>Anthony Russo,Joe Russo</td>\n",
       "      <td>Action,Adventure,Sci-Fi</td>\n",
       "      <td>United States</td>\n",
       "      <td>English</td>\n",
       "      <td>149.0</td>\n",
       "    </tr>\n",
       "    <tr>\n",
       "      <th>3</th>\n",
       "      <td>3</td>\n",
       "      <td>4</td>\n",
       "      <td>Back to the Future</td>\n",
       "      <td>1985</td>\n",
       "      <td>7+</td>\n",
       "      <td>8.5</td>\n",
       "      <td>96%</td>\n",
       "      <td>1</td>\n",
       "      <td>0</td>\n",
       "      <td>0</td>\n",
       "      <td>0</td>\n",
       "      <td>0</td>\n",
       "      <td>Robert Zemeckis</td>\n",
       "      <td>Adventure,Comedy,Sci-Fi</td>\n",
       "      <td>United States</td>\n",
       "      <td>English</td>\n",
       "      <td>116.0</td>\n",
       "    </tr>\n",
       "    <tr>\n",
       "      <th>4</th>\n",
       "      <td>4</td>\n",
       "      <td>5</td>\n",
       "      <td>The Good, the Bad and the Ugly</td>\n",
       "      <td>1966</td>\n",
       "      <td>18+</td>\n",
       "      <td>8.8</td>\n",
       "      <td>97%</td>\n",
       "      <td>1</td>\n",
       "      <td>0</td>\n",
       "      <td>1</td>\n",
       "      <td>0</td>\n",
       "      <td>0</td>\n",
       "      <td>Sergio Leone</td>\n",
       "      <td>Western</td>\n",
       "      <td>Italy,Spain,West Germany</td>\n",
       "      <td>Italian</td>\n",
       "      <td>161.0</td>\n",
       "    </tr>\n",
       "  </tbody>\n",
       "</table>\n",
       "</div>"
      ],
      "text/plain": [
       "   Unnamed: 0  ID                           Title  Year  Age  IMDb  \\\n",
       "0           0   1                       Inception  2010  13+   8.8   \n",
       "1           1   2                      The Matrix  1999  18+   8.7   \n",
       "2           2   3          Avengers: Infinity War  2018  13+   8.5   \n",
       "3           3   4              Back to the Future  1985   7+   8.5   \n",
       "4           4   5  The Good, the Bad and the Ugly  1966  18+   8.8   \n",
       "\n",
       "  Rotten Tomatoes  Netflix  Hulu  Prime Video  Disney+  Type  \\\n",
       "0             87%        1     0            0        0     0   \n",
       "1             87%        1     0            0        0     0   \n",
       "2             84%        1     0            0        0     0   \n",
       "3             96%        1     0            0        0     0   \n",
       "4             97%        1     0            1        0     0   \n",
       "\n",
       "                        Directors                            Genres  \\\n",
       "0               Christopher Nolan  Action,Adventure,Sci-Fi,Thriller   \n",
       "1  Lana Wachowski,Lilly Wachowski                     Action,Sci-Fi   \n",
       "2         Anthony Russo,Joe Russo           Action,Adventure,Sci-Fi   \n",
       "3                 Robert Zemeckis           Adventure,Comedy,Sci-Fi   \n",
       "4                    Sergio Leone                           Western   \n",
       "\n",
       "                        Country                 Language  Runtime  \n",
       "0  United States,United Kingdom  English,Japanese,French    148.0  \n",
       "1                 United States                  English    136.0  \n",
       "2                 United States                  English    149.0  \n",
       "3                 United States                  English    116.0  \n",
       "4      Italy,Spain,West Germany                  Italian    161.0  "
      ]
     },
     "execution_count": 258,
     "metadata": {},
     "output_type": "execute_result"
    }
   ],
   "source": [
    "df.head(5)"
   ]
  },
  {
   "cell_type": "code",
   "execution_count": 259,
   "metadata": {
    "scrolled": true
   },
   "outputs": [
    {
     "data": {
      "text/plain": [
       "(16744, 17)"
      ]
     },
     "execution_count": 259,
     "metadata": {},
     "output_type": "execute_result"
    }
   ],
   "source": [
    "df.shape"
   ]
  },
  {
   "cell_type": "code",
   "execution_count": 260,
   "metadata": {
    "scrolled": true
   },
   "outputs": [
    {
     "name": "stdout",
     "output_type": "stream",
     "text": [
      "<class 'pandas.core.frame.DataFrame'>\n",
      "RangeIndex: 16744 entries, 0 to 16743\n",
      "Data columns (total 17 columns):\n",
      "Unnamed: 0         16744 non-null int64\n",
      "ID                 16744 non-null int64\n",
      "Title              16744 non-null object\n",
      "Year               16744 non-null int64\n",
      "Age                7354 non-null object\n",
      "IMDb               16173 non-null float64\n",
      "Rotten Tomatoes    5158 non-null object\n",
      "Netflix            16744 non-null int64\n",
      "Hulu               16744 non-null int64\n",
      "Prime Video        16744 non-null int64\n",
      "Disney+            16744 non-null int64\n",
      "Type               16744 non-null int64\n",
      "Directors          16018 non-null object\n",
      "Genres             16469 non-null object\n",
      "Country            16309 non-null object\n",
      "Language           16145 non-null object\n",
      "Runtime            16152 non-null float64\n",
      "dtypes: float64(2), int64(8), object(7)\n",
      "memory usage: 2.2+ MB\n"
     ]
    }
   ],
   "source": [
    "df.info()"
   ]
  },
  {
   "cell_type": "code",
   "execution_count": 261,
   "metadata": {
    "scrolled": true
   },
   "outputs": [
    {
     "data": {
      "text/html": [
       "<div>\n",
       "<style scoped>\n",
       "    .dataframe tbody tr th:only-of-type {\n",
       "        vertical-align: middle;\n",
       "    }\n",
       "\n",
       "    .dataframe tbody tr th {\n",
       "        vertical-align: top;\n",
       "    }\n",
       "\n",
       "    .dataframe thead th {\n",
       "        text-align: right;\n",
       "    }\n",
       "</style>\n",
       "<table border=\"1\" class=\"dataframe\">\n",
       "  <thead>\n",
       "    <tr style=\"text-align: right;\">\n",
       "      <th></th>\n",
       "      <th>Unnamed: 0</th>\n",
       "      <th>ID</th>\n",
       "      <th>Year</th>\n",
       "      <th>IMDb</th>\n",
       "      <th>Netflix</th>\n",
       "      <th>Hulu</th>\n",
       "      <th>Prime Video</th>\n",
       "      <th>Disney+</th>\n",
       "      <th>Type</th>\n",
       "      <th>Runtime</th>\n",
       "    </tr>\n",
       "  </thead>\n",
       "  <tbody>\n",
       "    <tr>\n",
       "      <th>count</th>\n",
       "      <td>16744.000000</td>\n",
       "      <td>16744.000000</td>\n",
       "      <td>16744.000000</td>\n",
       "      <td>16173.000000</td>\n",
       "      <td>16744.000000</td>\n",
       "      <td>16744.000000</td>\n",
       "      <td>16744.000000</td>\n",
       "      <td>16744.000000</td>\n",
       "      <td>16744.0</td>\n",
       "      <td>16152.000000</td>\n",
       "    </tr>\n",
       "    <tr>\n",
       "      <th>mean</th>\n",
       "      <td>8371.500000</td>\n",
       "      <td>8372.500000</td>\n",
       "      <td>2003.014035</td>\n",
       "      <td>5.902751</td>\n",
       "      <td>0.212613</td>\n",
       "      <td>0.053930</td>\n",
       "      <td>0.737817</td>\n",
       "      <td>0.033684</td>\n",
       "      <td>0.0</td>\n",
       "      <td>93.413447</td>\n",
       "    </tr>\n",
       "    <tr>\n",
       "      <th>std</th>\n",
       "      <td>4833.720789</td>\n",
       "      <td>4833.720789</td>\n",
       "      <td>20.674321</td>\n",
       "      <td>1.347867</td>\n",
       "      <td>0.409169</td>\n",
       "      <td>0.225886</td>\n",
       "      <td>0.439835</td>\n",
       "      <td>0.180419</td>\n",
       "      <td>0.0</td>\n",
       "      <td>28.219222</td>\n",
       "    </tr>\n",
       "    <tr>\n",
       "      <th>min</th>\n",
       "      <td>0.000000</td>\n",
       "      <td>1.000000</td>\n",
       "      <td>1902.000000</td>\n",
       "      <td>0.000000</td>\n",
       "      <td>0.000000</td>\n",
       "      <td>0.000000</td>\n",
       "      <td>0.000000</td>\n",
       "      <td>0.000000</td>\n",
       "      <td>0.0</td>\n",
       "      <td>1.000000</td>\n",
       "    </tr>\n",
       "    <tr>\n",
       "      <th>25%</th>\n",
       "      <td>4185.750000</td>\n",
       "      <td>4186.750000</td>\n",
       "      <td>2000.000000</td>\n",
       "      <td>5.100000</td>\n",
       "      <td>0.000000</td>\n",
       "      <td>0.000000</td>\n",
       "      <td>0.000000</td>\n",
       "      <td>0.000000</td>\n",
       "      <td>0.0</td>\n",
       "      <td>82.000000</td>\n",
       "    </tr>\n",
       "    <tr>\n",
       "      <th>50%</th>\n",
       "      <td>8371.500000</td>\n",
       "      <td>8372.500000</td>\n",
       "      <td>2012.000000</td>\n",
       "      <td>6.100000</td>\n",
       "      <td>0.000000</td>\n",
       "      <td>0.000000</td>\n",
       "      <td>1.000000</td>\n",
       "      <td>0.000000</td>\n",
       "      <td>0.0</td>\n",
       "      <td>92.000000</td>\n",
       "    </tr>\n",
       "    <tr>\n",
       "      <th>75%</th>\n",
       "      <td>12557.250000</td>\n",
       "      <td>12558.250000</td>\n",
       "      <td>2016.000000</td>\n",
       "      <td>6.900000</td>\n",
       "      <td>0.000000</td>\n",
       "      <td>0.000000</td>\n",
       "      <td>1.000000</td>\n",
       "      <td>0.000000</td>\n",
       "      <td>0.0</td>\n",
       "      <td>104.000000</td>\n",
       "    </tr>\n",
       "    <tr>\n",
       "      <th>max</th>\n",
       "      <td>16743.000000</td>\n",
       "      <td>16744.000000</td>\n",
       "      <td>2020.000000</td>\n",
       "      <td>9.300000</td>\n",
       "      <td>1.000000</td>\n",
       "      <td>1.000000</td>\n",
       "      <td>1.000000</td>\n",
       "      <td>1.000000</td>\n",
       "      <td>0.0</td>\n",
       "      <td>1256.000000</td>\n",
       "    </tr>\n",
       "  </tbody>\n",
       "</table>\n",
       "</div>"
      ],
      "text/plain": [
       "         Unnamed: 0            ID          Year          IMDb       Netflix  \\\n",
       "count  16744.000000  16744.000000  16744.000000  16173.000000  16744.000000   \n",
       "mean    8371.500000   8372.500000   2003.014035      5.902751      0.212613   \n",
       "std     4833.720789   4833.720789     20.674321      1.347867      0.409169   \n",
       "min        0.000000      1.000000   1902.000000      0.000000      0.000000   \n",
       "25%     4185.750000   4186.750000   2000.000000      5.100000      0.000000   \n",
       "50%     8371.500000   8372.500000   2012.000000      6.100000      0.000000   \n",
       "75%    12557.250000  12558.250000   2016.000000      6.900000      0.000000   \n",
       "max    16743.000000  16744.000000   2020.000000      9.300000      1.000000   \n",
       "\n",
       "               Hulu   Prime Video       Disney+     Type       Runtime  \n",
       "count  16744.000000  16744.000000  16744.000000  16744.0  16152.000000  \n",
       "mean       0.053930      0.737817      0.033684      0.0     93.413447  \n",
       "std        0.225886      0.439835      0.180419      0.0     28.219222  \n",
       "min        0.000000      0.000000      0.000000      0.0      1.000000  \n",
       "25%        0.000000      0.000000      0.000000      0.0     82.000000  \n",
       "50%        0.000000      1.000000      0.000000      0.0     92.000000  \n",
       "75%        0.000000      1.000000      0.000000      0.0    104.000000  \n",
       "max        1.000000      1.000000      1.000000      0.0   1256.000000  "
      ]
     },
     "execution_count": 261,
     "metadata": {},
     "output_type": "execute_result"
    }
   ],
   "source": [
    "df.describe()"
   ]
  },
  {
   "cell_type": "code",
   "execution_count": 262,
   "metadata": {
    "scrolled": true
   },
   "outputs": [
    {
     "data": {
      "text/plain": [
       "Index(['Unnamed: 0', 'ID', 'Title', 'Year', 'Age', 'IMDb', 'Rotten Tomatoes',\n",
       "       'Netflix', 'Hulu', 'Prime Video', 'Disney+', 'Type', 'Directors',\n",
       "       'Genres', 'Country', 'Language', 'Runtime'],\n",
       "      dtype='object')"
      ]
     },
     "execution_count": 262,
     "metadata": {},
     "output_type": "execute_result"
    }
   ],
   "source": [
    "df.columns"
   ]
  },
  {
   "cell_type": "code",
   "execution_count": 263,
   "metadata": {},
   "outputs": [
    {
     "data": {
      "text/html": [
       "<div>\n",
       "<style scoped>\n",
       "    .dataframe tbody tr th:only-of-type {\n",
       "        vertical-align: middle;\n",
       "    }\n",
       "\n",
       "    .dataframe tbody tr th {\n",
       "        vertical-align: top;\n",
       "    }\n",
       "\n",
       "    .dataframe thead th {\n",
       "        text-align: right;\n",
       "    }\n",
       "</style>\n",
       "<table border=\"1\" class=\"dataframe\">\n",
       "  <thead>\n",
       "    <tr style=\"text-align: right;\">\n",
       "      <th></th>\n",
       "      <th>ID</th>\n",
       "      <th>Title</th>\n",
       "      <th>Year</th>\n",
       "      <th>Age</th>\n",
       "      <th>IMDb</th>\n",
       "      <th>Rotten Tomatoes</th>\n",
       "      <th>Netflix</th>\n",
       "      <th>Hulu</th>\n",
       "      <th>Prime Video</th>\n",
       "      <th>Disney+</th>\n",
       "      <th>Type</th>\n",
       "      <th>Directors</th>\n",
       "      <th>Genres</th>\n",
       "      <th>Country</th>\n",
       "      <th>Language</th>\n",
       "      <th>Runtime</th>\n",
       "    </tr>\n",
       "  </thead>\n",
       "  <tbody>\n",
       "    <tr>\n",
       "      <th>0</th>\n",
       "      <td>1</td>\n",
       "      <td>Inception</td>\n",
       "      <td>2010</td>\n",
       "      <td>13+</td>\n",
       "      <td>8.8</td>\n",
       "      <td>87%</td>\n",
       "      <td>1</td>\n",
       "      <td>0</td>\n",
       "      <td>0</td>\n",
       "      <td>0</td>\n",
       "      <td>0</td>\n",
       "      <td>Christopher Nolan</td>\n",
       "      <td>Action,Adventure,Sci-Fi,Thriller</td>\n",
       "      <td>United States,United Kingdom</td>\n",
       "      <td>English,Japanese,French</td>\n",
       "      <td>148.0</td>\n",
       "    </tr>\n",
       "    <tr>\n",
       "      <th>1</th>\n",
       "      <td>2</td>\n",
       "      <td>The Matrix</td>\n",
       "      <td>1999</td>\n",
       "      <td>18+</td>\n",
       "      <td>8.7</td>\n",
       "      <td>87%</td>\n",
       "      <td>1</td>\n",
       "      <td>0</td>\n",
       "      <td>0</td>\n",
       "      <td>0</td>\n",
       "      <td>0</td>\n",
       "      <td>Lana Wachowski,Lilly Wachowski</td>\n",
       "      <td>Action,Sci-Fi</td>\n",
       "      <td>United States</td>\n",
       "      <td>English</td>\n",
       "      <td>136.0</td>\n",
       "    </tr>\n",
       "    <tr>\n",
       "      <th>2</th>\n",
       "      <td>3</td>\n",
       "      <td>Avengers: Infinity War</td>\n",
       "      <td>2018</td>\n",
       "      <td>13+</td>\n",
       "      <td>8.5</td>\n",
       "      <td>84%</td>\n",
       "      <td>1</td>\n",
       "      <td>0</td>\n",
       "      <td>0</td>\n",
       "      <td>0</td>\n",
       "      <td>0</td>\n",
       "      <td>Anthony Russo,Joe Russo</td>\n",
       "      <td>Action,Adventure,Sci-Fi</td>\n",
       "      <td>United States</td>\n",
       "      <td>English</td>\n",
       "      <td>149.0</td>\n",
       "    </tr>\n",
       "    <tr>\n",
       "      <th>3</th>\n",
       "      <td>4</td>\n",
       "      <td>Back to the Future</td>\n",
       "      <td>1985</td>\n",
       "      <td>7+</td>\n",
       "      <td>8.5</td>\n",
       "      <td>96%</td>\n",
       "      <td>1</td>\n",
       "      <td>0</td>\n",
       "      <td>0</td>\n",
       "      <td>0</td>\n",
       "      <td>0</td>\n",
       "      <td>Robert Zemeckis</td>\n",
       "      <td>Adventure,Comedy,Sci-Fi</td>\n",
       "      <td>United States</td>\n",
       "      <td>English</td>\n",
       "      <td>116.0</td>\n",
       "    </tr>\n",
       "    <tr>\n",
       "      <th>4</th>\n",
       "      <td>5</td>\n",
       "      <td>The Good, the Bad and the Ugly</td>\n",
       "      <td>1966</td>\n",
       "      <td>18+</td>\n",
       "      <td>8.8</td>\n",
       "      <td>97%</td>\n",
       "      <td>1</td>\n",
       "      <td>0</td>\n",
       "      <td>1</td>\n",
       "      <td>0</td>\n",
       "      <td>0</td>\n",
       "      <td>Sergio Leone</td>\n",
       "      <td>Western</td>\n",
       "      <td>Italy,Spain,West Germany</td>\n",
       "      <td>Italian</td>\n",
       "      <td>161.0</td>\n",
       "    </tr>\n",
       "  </tbody>\n",
       "</table>\n",
       "</div>"
      ],
      "text/plain": [
       "   ID                           Title  Year  Age  IMDb Rotten Tomatoes  \\\n",
       "0   1                       Inception  2010  13+   8.8             87%   \n",
       "1   2                      The Matrix  1999  18+   8.7             87%   \n",
       "2   3          Avengers: Infinity War  2018  13+   8.5             84%   \n",
       "3   4              Back to the Future  1985   7+   8.5             96%   \n",
       "4   5  The Good, the Bad and the Ugly  1966  18+   8.8             97%   \n",
       "\n",
       "   Netflix  Hulu  Prime Video  Disney+  Type                       Directors  \\\n",
       "0        1     0            0        0     0               Christopher Nolan   \n",
       "1        1     0            0        0     0  Lana Wachowski,Lilly Wachowski   \n",
       "2        1     0            0        0     0         Anthony Russo,Joe Russo   \n",
       "3        1     0            0        0     0                 Robert Zemeckis   \n",
       "4        1     0            1        0     0                    Sergio Leone   \n",
       "\n",
       "                             Genres                       Country  \\\n",
       "0  Action,Adventure,Sci-Fi,Thriller  United States,United Kingdom   \n",
       "1                     Action,Sci-Fi                 United States   \n",
       "2           Action,Adventure,Sci-Fi                 United States   \n",
       "3           Adventure,Comedy,Sci-Fi                 United States   \n",
       "4                           Western      Italy,Spain,West Germany   \n",
       "\n",
       "                  Language  Runtime  \n",
       "0  English,Japanese,French    148.0  \n",
       "1                  English    136.0  \n",
       "2                  English    149.0  \n",
       "3                  English    116.0  \n",
       "4                  Italian    161.0  "
      ]
     },
     "execution_count": 263,
     "metadata": {},
     "output_type": "execute_result"
    }
   ],
   "source": [
    "df = df.drop(['Unnamed: 0'], axis=1) \n",
    "df.head(5)"
   ]
  },
  {
   "cell_type": "code",
   "execution_count": 264,
   "metadata": {
    "scrolled": true
   },
   "outputs": [],
   "source": [
    "#Separando os generos \n",
    "generos = df['Genres'].str.get_dummies(',')\n",
    "\n",
    "# Concatenando\n",
    "df = pd.concat([df, generos], axis = 1, sort = False)"
   ]
  },
  {
   "cell_type": "code",
   "execution_count": 265,
   "metadata": {},
   "outputs": [
    {
     "data": {
      "text/html": [
       "<div>\n",
       "<style scoped>\n",
       "    .dataframe tbody tr th:only-of-type {\n",
       "        vertical-align: middle;\n",
       "    }\n",
       "\n",
       "    .dataframe tbody tr th {\n",
       "        vertical-align: top;\n",
       "    }\n",
       "\n",
       "    .dataframe thead th {\n",
       "        text-align: right;\n",
       "    }\n",
       "</style>\n",
       "<table border=\"1\" class=\"dataframe\">\n",
       "  <thead>\n",
       "    <tr style=\"text-align: right;\">\n",
       "      <th></th>\n",
       "      <th>ID</th>\n",
       "      <th>Title</th>\n",
       "      <th>Year</th>\n",
       "      <th>Age</th>\n",
       "      <th>IMDb</th>\n",
       "      <th>Rotten Tomatoes</th>\n",
       "      <th>Netflix</th>\n",
       "      <th>Hulu</th>\n",
       "      <th>Prime Video</th>\n",
       "      <th>Disney+</th>\n",
       "      <th>...</th>\n",
       "      <th>News</th>\n",
       "      <th>Reality-TV</th>\n",
       "      <th>Romance</th>\n",
       "      <th>Sci-Fi</th>\n",
       "      <th>Short</th>\n",
       "      <th>Sport</th>\n",
       "      <th>Talk-Show</th>\n",
       "      <th>Thriller</th>\n",
       "      <th>War</th>\n",
       "      <th>Western</th>\n",
       "    </tr>\n",
       "  </thead>\n",
       "  <tbody>\n",
       "    <tr>\n",
       "      <th>0</th>\n",
       "      <td>1</td>\n",
       "      <td>Inception</td>\n",
       "      <td>2010</td>\n",
       "      <td>13+</td>\n",
       "      <td>8.8</td>\n",
       "      <td>87%</td>\n",
       "      <td>1</td>\n",
       "      <td>0</td>\n",
       "      <td>0</td>\n",
       "      <td>0</td>\n",
       "      <td>...</td>\n",
       "      <td>0</td>\n",
       "      <td>0</td>\n",
       "      <td>0</td>\n",
       "      <td>1</td>\n",
       "      <td>0</td>\n",
       "      <td>0</td>\n",
       "      <td>0</td>\n",
       "      <td>1</td>\n",
       "      <td>0</td>\n",
       "      <td>0</td>\n",
       "    </tr>\n",
       "    <tr>\n",
       "      <th>1</th>\n",
       "      <td>2</td>\n",
       "      <td>The Matrix</td>\n",
       "      <td>1999</td>\n",
       "      <td>18+</td>\n",
       "      <td>8.7</td>\n",
       "      <td>87%</td>\n",
       "      <td>1</td>\n",
       "      <td>0</td>\n",
       "      <td>0</td>\n",
       "      <td>0</td>\n",
       "      <td>...</td>\n",
       "      <td>0</td>\n",
       "      <td>0</td>\n",
       "      <td>0</td>\n",
       "      <td>1</td>\n",
       "      <td>0</td>\n",
       "      <td>0</td>\n",
       "      <td>0</td>\n",
       "      <td>0</td>\n",
       "      <td>0</td>\n",
       "      <td>0</td>\n",
       "    </tr>\n",
       "    <tr>\n",
       "      <th>2</th>\n",
       "      <td>3</td>\n",
       "      <td>Avengers: Infinity War</td>\n",
       "      <td>2018</td>\n",
       "      <td>13+</td>\n",
       "      <td>8.5</td>\n",
       "      <td>84%</td>\n",
       "      <td>1</td>\n",
       "      <td>0</td>\n",
       "      <td>0</td>\n",
       "      <td>0</td>\n",
       "      <td>...</td>\n",
       "      <td>0</td>\n",
       "      <td>0</td>\n",
       "      <td>0</td>\n",
       "      <td>1</td>\n",
       "      <td>0</td>\n",
       "      <td>0</td>\n",
       "      <td>0</td>\n",
       "      <td>0</td>\n",
       "      <td>0</td>\n",
       "      <td>0</td>\n",
       "    </tr>\n",
       "    <tr>\n",
       "      <th>3</th>\n",
       "      <td>4</td>\n",
       "      <td>Back to the Future</td>\n",
       "      <td>1985</td>\n",
       "      <td>7+</td>\n",
       "      <td>8.5</td>\n",
       "      <td>96%</td>\n",
       "      <td>1</td>\n",
       "      <td>0</td>\n",
       "      <td>0</td>\n",
       "      <td>0</td>\n",
       "      <td>...</td>\n",
       "      <td>0</td>\n",
       "      <td>0</td>\n",
       "      <td>0</td>\n",
       "      <td>1</td>\n",
       "      <td>0</td>\n",
       "      <td>0</td>\n",
       "      <td>0</td>\n",
       "      <td>0</td>\n",
       "      <td>0</td>\n",
       "      <td>0</td>\n",
       "    </tr>\n",
       "    <tr>\n",
       "      <th>4</th>\n",
       "      <td>5</td>\n",
       "      <td>The Good, the Bad and the Ugly</td>\n",
       "      <td>1966</td>\n",
       "      <td>18+</td>\n",
       "      <td>8.8</td>\n",
       "      <td>97%</td>\n",
       "      <td>1</td>\n",
       "      <td>0</td>\n",
       "      <td>1</td>\n",
       "      <td>0</td>\n",
       "      <td>...</td>\n",
       "      <td>0</td>\n",
       "      <td>0</td>\n",
       "      <td>0</td>\n",
       "      <td>0</td>\n",
       "      <td>0</td>\n",
       "      <td>0</td>\n",
       "      <td>0</td>\n",
       "      <td>0</td>\n",
       "      <td>0</td>\n",
       "      <td>1</td>\n",
       "    </tr>\n",
       "  </tbody>\n",
       "</table>\n",
       "<p>5 rows × 43 columns</p>\n",
       "</div>"
      ],
      "text/plain": [
       "   ID                           Title  Year  Age  IMDb Rotten Tomatoes  \\\n",
       "0   1                       Inception  2010  13+   8.8             87%   \n",
       "1   2                      The Matrix  1999  18+   8.7             87%   \n",
       "2   3          Avengers: Infinity War  2018  13+   8.5             84%   \n",
       "3   4              Back to the Future  1985   7+   8.5             96%   \n",
       "4   5  The Good, the Bad and the Ugly  1966  18+   8.8             97%   \n",
       "\n",
       "   Netflix  Hulu  Prime Video  Disney+   ...     News Reality-TV Romance  \\\n",
       "0        1     0            0        0   ...        0          0       0   \n",
       "1        1     0            0        0   ...        0          0       0   \n",
       "2        1     0            0        0   ...        0          0       0   \n",
       "3        1     0            0        0   ...        0          0       0   \n",
       "4        1     0            1        0   ...        0          0       0   \n",
       "\n",
       "  Sci-Fi Short  Sport  Talk-Show  Thriller  War  Western  \n",
       "0      1     0      0          0         1    0        0  \n",
       "1      1     0      0          0         0    0        0  \n",
       "2      1     0      0          0         0    0        0  \n",
       "3      1     0      0          0         0    0        0  \n",
       "4      0     0      0          0         0    0        1  \n",
       "\n",
       "[5 rows x 43 columns]"
      ]
     },
     "execution_count": 265,
     "metadata": {},
     "output_type": "execute_result"
    }
   ],
   "source": [
    "df.head()"
   ]
  },
  {
   "cell_type": "code",
   "execution_count": 266,
   "metadata": {},
   "outputs": [
    {
     "data": {
      "text/plain": [
       "Index(['Action', 'Adventure', 'Animation', 'Biography', 'Comedy', 'Crime',\n",
       "       'Documentary', 'Drama', 'Family', 'Fantasy', 'Film-Noir', 'Game-Show',\n",
       "       'History', 'Horror', 'Music', 'Musical', 'Mystery', 'News',\n",
       "       'Reality-TV', 'Romance', 'Sci-Fi', 'Short', 'Sport', 'Talk-Show',\n",
       "       'Thriller', 'War', 'Western'],\n",
       "      dtype='object')"
      ]
     },
     "execution_count": 266,
     "metadata": {},
     "output_type": "execute_result"
    }
   ],
   "source": [
    "generos.columns"
   ]
  },
  {
   "cell_type": "code",
   "execution_count": 267,
   "metadata": {},
   "outputs": [
    {
     "name": "stdout",
     "output_type": "stream",
     "text": [
      "<class 'pandas.core.frame.DataFrame'>\n",
      "RangeIndex: 16744 entries, 0 to 16743\n",
      "Data columns (total 27 columns):\n",
      "Action         16744 non-null int64\n",
      "Adventure      16744 non-null int64\n",
      "Animation      16744 non-null int64\n",
      "Biography      16744 non-null int64\n",
      "Comedy         16744 non-null int64\n",
      "Crime          16744 non-null int64\n",
      "Documentary    16744 non-null int64\n",
      "Drama          16744 non-null int64\n",
      "Family         16744 non-null int64\n",
      "Fantasy        16744 non-null int64\n",
      "Film-Noir      16744 non-null int64\n",
      "Game-Show      16744 non-null int64\n",
      "History        16744 non-null int64\n",
      "Horror         16744 non-null int64\n",
      "Music          16744 non-null int64\n",
      "Musical        16744 non-null int64\n",
      "Mystery        16744 non-null int64\n",
      "News           16744 non-null int64\n",
      "Reality-TV     16744 non-null int64\n",
      "Romance        16744 non-null int64\n",
      "Sci-Fi         16744 non-null int64\n",
      "Short          16744 non-null int64\n",
      "Sport          16744 non-null int64\n",
      "Talk-Show      16744 non-null int64\n",
      "Thriller       16744 non-null int64\n",
      "War            16744 non-null int64\n",
      "Western        16744 non-null int64\n",
      "dtypes: int64(27)\n",
      "memory usage: 3.4 MB\n"
     ]
    }
   ],
   "source": [
    "generos.info()"
   ]
  },
  {
   "cell_type": "code",
   "execution_count": 268,
   "metadata": {},
   "outputs": [],
   "source": [
    "X=df.loc[df['Action']==1]\n",
    "ac = X.index\n",
    "tAction = len(ac)\n",
    "\n",
    "X=df.loc[df['Adventure']==1]\n",
    "ac = X.index\n",
    "tAdventure = len(ac)\n",
    "\n",
    "X=df.loc[df['Animation']==1]\n",
    "ac = X.index\n",
    "tAnimation = len(ac)\n",
    "\n",
    "\n",
    "X=df.loc[df['Biography']==1]\n",
    "ac = X.index\n",
    "tBiography = len(ac)\n",
    "\n",
    "\n",
    "X=df.loc[df['Comedy']==1]\n",
    "ac = X.index\n",
    "tComedy = len(ac)\n",
    "\n",
    "X=df.loc[df['Crime']==1]\n",
    "ac = X.index\n",
    "tCrime = len(ac)\n",
    "\n",
    "X=df.loc[df['Documentary']==1]\n",
    "ac = X.index\n",
    "tDocumentary = len(ac)\n",
    "\n",
    "\n",
    "X=df.loc[df['Drama']==1]\n",
    "ac = X.index\n",
    "tDrama = len(ac)\n",
    "\n",
    "X=df.loc[df['Family']==1]\n",
    "ac = X.index\n",
    "tFamily = len(ac)\n",
    "\n",
    "X=df.loc[df['Fantasy']==1]\n",
    "ac = X.index\n",
    "tFantasy = len(ac)\n",
    "\n",
    "X=df.loc[df['Film-Noir']==1]\n",
    "ac = X.index\n",
    "tFilm_Noir = len(ac)\n",
    "\n",
    "X=df.loc[df['Game-Show']==1]\n",
    "ac = X.index\n",
    "tGame_Show = len(ac)\n",
    "\n",
    "X=df.loc[df['History']==1]\n",
    "ac = X.index\n",
    "tHistory = len(ac)\n",
    "\n",
    "X=df.loc[df['Horror']==1]\n",
    "ac = X.index\n",
    "tHorror = len(ac)\n",
    "\n",
    "X=df.loc[df['Music']==1]\n",
    "ac = X.index\n",
    "tMusic = len(ac)\n",
    "\n",
    "X=df.loc[df['Musical']==1]\n",
    "ac = X.index\n",
    "tMusical = len(ac)\n",
    "\n",
    "X=df.loc[df['Mystery']==1]\n",
    "ac = X.index\n",
    "tMystery = len(ac)\n",
    "\n",
    "X=df.loc[df['News']==1]\n",
    "ac = X.index\n",
    "tNews = len(ac)\n",
    "\n",
    "X=df.loc[df['Reality-TV']==1]\n",
    "ac = X.index\n",
    "tReality_TV = len(ac)\n",
    "        \n",
    "X=df.loc[df['Romance']==1]\n",
    "ac = X.index\n",
    "tRomance = len(ac)\n",
    "\n",
    "X=df.loc[df['Sci-Fi']==1]\n",
    "ac = X.index\n",
    "tSci_Fi = len(ac)\n",
    "\n",
    "X=df.loc[df['Short']==1]\n",
    "ac = X.index\n",
    "tShort = len(ac)\n",
    "\n",
    "X=df.loc[df['Sport']==1]\n",
    "ac = X.index\n",
    "tSport = len(ac)\n",
    "\n",
    "X=df.loc[df['Talk-Show']==1]\n",
    "ac = X.index\n",
    "tTalk_Show = len(ac)\n",
    "\n",
    "X=df.loc[df['Thriller']==1]\n",
    "ac = X.index\n",
    "tThriller = len(ac)\n",
    "\n",
    "X=df.loc[df['War']==1]\n",
    "ac = X.index\n",
    "tWar = len(ac)\n",
    "\n",
    "X=df.loc[df['Western']==1]\n",
    "ac = X.index\n",
    "tWestern = len(ac)\n",
    "\n",
    "\n"
   ]
  },
  {
   "cell_type": "code",
   "execution_count": 269,
   "metadata": {},
   "outputs": [
    {
     "data": {
      "image/png": "[encoded data removed]",
      "text/plain": [
       "<Figure size 432x288 with 1 Axes>"
      ]
     },
     "metadata": {},
     "output_type": "display_data"
    }
   ],
   "source": [
    "gen = ['Action', 'Adventure', 'Animation', 'Biography', 'Comedy', 'Crime',\n",
    "       'Documentary', 'Drama', 'Family', 'Fantasy', 'Film-Noir', 'Game-Show',\n",
    "       'History', 'Horror', 'Music', 'Musical', 'Mystery', 'News',\n",
    "       'Reality-TV', 'Romance', 'Sci-Fi', 'Short', 'Sport', 'Talk-Show',\n",
    "       'Thriller', 'War', 'Western']\n",
    "\n",
    "\n",
    "valgen=[tAction,tAdventure,tAnimation, tBiography, tComedy, tCrime,\n",
    "       tDocumentary, tDrama, tFamily, tFantasy, tFilm_Noir, tGame_Show,\n",
    "       tHistory, tHorror, tMusic, tMusical, tMystery, tNews,\n",
    "       tReality_TV, tRomance, tSci_Fi, tShort, tSport, tTalk_Show,\n",
    "       tThriller, tWar, tWestern]\n",
    "\n",
    "plt.bar(gen, valgen)\n",
    "plt.show()"
   ]
  },
  {
   "cell_type": "code",
   "execution_count": 270,
   "metadata": {},
   "outputs": [
    {
     "name": "stdout",
     "output_type": "stream",
     "text": [
      "Action:2683\n",
      "Adventure:1778\n",
      "Animation:711\n",
      "Biography:821\n",
      "Comedy:4637\n",
      "Crime:1833\n",
      "Documentary:2546\n",
      "Drama:7227\n",
      "Family:1514\n",
      "Fantasy:1089\n",
      "Film-Noir:79\n",
      "Game-Show:7\n",
      "History:715\n",
      "Horror:2201\n",
      "Music:667\n",
      "Musical:401\n",
      "Mystery:1274\n",
      "News:105\n",
      "Reality-TV:22\n",
      "Romance:2359\n",
      "Sci-Fi:1228\n",
      "Short:386\n",
      "Sport:404\n",
      "Talk-Show:19\n",
      "Thriller:3354\n",
      "War:539\n",
      "Western:499\n"
     ]
    }
   ],
   "source": [
    "#valgen\n",
    "#generos.feature_names\n",
    "for i,j in zip(gen,valgen):\n",
    "    print(\"{}:{}\".format(i, j))"
   ]
  },
  {
   "cell_type": "markdown",
   "metadata": {},
   "source": [
    "**Separando os filmes por plataforma**"
   ]
  },
  {
   "cell_type": "code",
   "execution_count": 271,
   "metadata": {},
   "outputs": [],
   "source": [
    "\n",
    "netflix_movies = df.loc[df['Netflix'] == 1]\n",
    "hulu_movies = df.loc[df['Hulu'] == 1]\n",
    "prime_video_movies = df.loc[df['Prime Video'] == 1]\n",
    "disney_movies = df.loc[df['Disney+'] == 1]"
   ]
  },
  {
   "cell_type": "code",
   "execution_count": 272,
   "metadata": {},
   "outputs": [],
   "source": [
    "\n",
    "netflix_movies = netflix_movies.drop(['Hulu', 'Disney+', 'Prime Video' , 'Type','Genres'], axis = 1)\n",
    "hulu_movies = hulu_movies.drop(['Netflix', 'Disney+','Prime Video', 'Type','Genres'], axis = 1)\n",
    "prime_video_movies = prime_video_movies.drop(['Hulu', 'Netflix', 'Disney+', 'Type','Genres'], axis = 1)\n",
    "disney_movies = disney_movies.drop(['Hulu','Netflix','Prime Video', 'Type','Genres'], axis = 1)"
   ]
  },
  {
   "cell_type": "code",
   "execution_count": 273,
   "metadata": {},
   "outputs": [
    {
     "data": {
      "text/html": [
       "<div>\n",
       "<style scoped>\n",
       "    .dataframe tbody tr th:only-of-type {\n",
       "        vertical-align: middle;\n",
       "    }\n",
       "\n",
       "    .dataframe tbody tr th {\n",
       "        vertical-align: top;\n",
       "    }\n",
       "\n",
       "    .dataframe thead th {\n",
       "        text-align: right;\n",
       "    }\n",
       "</style>\n",
       "<table border=\"1\" class=\"dataframe\">\n",
       "  <thead>\n",
       "    <tr style=\"text-align: right;\">\n",
       "      <th></th>\n",
       "      <th>ID</th>\n",
       "      <th>Title</th>\n",
       "      <th>Year</th>\n",
       "      <th>Age</th>\n",
       "      <th>IMDb</th>\n",
       "      <th>Rotten Tomatoes</th>\n",
       "      <th>Prime Video</th>\n",
       "      <th>Directors</th>\n",
       "      <th>Country</th>\n",
       "      <th>Language</th>\n",
       "      <th>...</th>\n",
       "      <th>News</th>\n",
       "      <th>Reality-TV</th>\n",
       "      <th>Romance</th>\n",
       "      <th>Sci-Fi</th>\n",
       "      <th>Short</th>\n",
       "      <th>Sport</th>\n",
       "      <th>Talk-Show</th>\n",
       "      <th>Thriller</th>\n",
       "      <th>War</th>\n",
       "      <th>Western</th>\n",
       "    </tr>\n",
       "  </thead>\n",
       "  <tbody>\n",
       "    <tr>\n",
       "      <th>4</th>\n",
       "      <td>5</td>\n",
       "      <td>The Good, the Bad and the Ugly</td>\n",
       "      <td>1966</td>\n",
       "      <td>18+</td>\n",
       "      <td>8.8</td>\n",
       "      <td>97%</td>\n",
       "      <td>1</td>\n",
       "      <td>Sergio Leone</td>\n",
       "      <td>Italy,Spain,West Germany</td>\n",
       "      <td>Italian</td>\n",
       "      <td>...</td>\n",
       "      <td>0</td>\n",
       "      <td>0</td>\n",
       "      <td>0</td>\n",
       "      <td>0</td>\n",
       "      <td>0</td>\n",
       "      <td>0</td>\n",
       "      <td>0</td>\n",
       "      <td>0</td>\n",
       "      <td>0</td>\n",
       "      <td>1</td>\n",
       "    </tr>\n",
       "    <tr>\n",
       "      <th>6</th>\n",
       "      <td>7</td>\n",
       "      <td>The Pianist</td>\n",
       "      <td>2002</td>\n",
       "      <td>18+</td>\n",
       "      <td>8.5</td>\n",
       "      <td>95%</td>\n",
       "      <td>1</td>\n",
       "      <td>Roman Polanski</td>\n",
       "      <td>United Kingdom,France,Poland,Germany</td>\n",
       "      <td>English,German,Russian</td>\n",
       "      <td>...</td>\n",
       "      <td>0</td>\n",
       "      <td>0</td>\n",
       "      <td>0</td>\n",
       "      <td>0</td>\n",
       "      <td>0</td>\n",
       "      <td>0</td>\n",
       "      <td>0</td>\n",
       "      <td>0</td>\n",
       "      <td>1</td>\n",
       "      <td>0</td>\n",
       "    </tr>\n",
       "    <tr>\n",
       "      <th>11</th>\n",
       "      <td>12</td>\n",
       "      <td>3 Idiots</td>\n",
       "      <td>2009</td>\n",
       "      <td>13+</td>\n",
       "      <td>8.4</td>\n",
       "      <td>100%</td>\n",
       "      <td>1</td>\n",
       "      <td>Rajkumar Hirani</td>\n",
       "      <td>India</td>\n",
       "      <td>Hindi,English</td>\n",
       "      <td>...</td>\n",
       "      <td>0</td>\n",
       "      <td>0</td>\n",
       "      <td>0</td>\n",
       "      <td>0</td>\n",
       "      <td>0</td>\n",
       "      <td>0</td>\n",
       "      <td>0</td>\n",
       "      <td>0</td>\n",
       "      <td>0</td>\n",
       "      <td>0</td>\n",
       "    </tr>\n",
       "    <tr>\n",
       "      <th>15</th>\n",
       "      <td>16</td>\n",
       "      <td>Once Upon a Time in the West</td>\n",
       "      <td>1968</td>\n",
       "      <td>13+</td>\n",
       "      <td>8.5</td>\n",
       "      <td>95%</td>\n",
       "      <td>1</td>\n",
       "      <td>Sergio Leone</td>\n",
       "      <td>Italy,United States</td>\n",
       "      <td>Italian,English,Spanish</td>\n",
       "      <td>...</td>\n",
       "      <td>0</td>\n",
       "      <td>0</td>\n",
       "      <td>0</td>\n",
       "      <td>0</td>\n",
       "      <td>0</td>\n",
       "      <td>0</td>\n",
       "      <td>0</td>\n",
       "      <td>0</td>\n",
       "      <td>0</td>\n",
       "      <td>1</td>\n",
       "    </tr>\n",
       "    <tr>\n",
       "      <th>31</th>\n",
       "      <td>32</td>\n",
       "      <td>Drive</td>\n",
       "      <td>2011</td>\n",
       "      <td>18+</td>\n",
       "      <td>7.8</td>\n",
       "      <td>92%</td>\n",
       "      <td>1</td>\n",
       "      <td>Nicolas Winding Refn</td>\n",
       "      <td>United States</td>\n",
       "      <td>English,Spanish</td>\n",
       "      <td>...</td>\n",
       "      <td>0</td>\n",
       "      <td>0</td>\n",
       "      <td>0</td>\n",
       "      <td>0</td>\n",
       "      <td>0</td>\n",
       "      <td>0</td>\n",
       "      <td>0</td>\n",
       "      <td>0</td>\n",
       "      <td>0</td>\n",
       "      <td>0</td>\n",
       "    </tr>\n",
       "  </tbody>\n",
       "</table>\n",
       "<p>5 rows × 38 columns</p>\n",
       "</div>"
      ],
      "text/plain": [
       "    ID                           Title  Year  Age  IMDb Rotten Tomatoes  \\\n",
       "4    5  The Good, the Bad and the Ugly  1966  18+   8.8             97%   \n",
       "6    7                     The Pianist  2002  18+   8.5             95%   \n",
       "11  12                        3 Idiots  2009  13+   8.4            100%   \n",
       "15  16    Once Upon a Time in the West  1968  13+   8.5             95%   \n",
       "31  32                           Drive  2011  18+   7.8             92%   \n",
       "\n",
       "    Prime Video             Directors                               Country  \\\n",
       "4             1          Sergio Leone              Italy,Spain,West Germany   \n",
       "6             1        Roman Polanski  United Kingdom,France,Poland,Germany   \n",
       "11            1       Rajkumar Hirani                                 India   \n",
       "15            1          Sergio Leone                   Italy,United States   \n",
       "31            1  Nicolas Winding Refn                         United States   \n",
       "\n",
       "                   Language   ...     News  Reality-TV  Romance  Sci-Fi  \\\n",
       "4                   Italian   ...        0           0        0       0   \n",
       "6    English,German,Russian   ...        0           0        0       0   \n",
       "11            Hindi,English   ...        0           0        0       0   \n",
       "15  Italian,English,Spanish   ...        0           0        0       0   \n",
       "31          English,Spanish   ...        0           0        0       0   \n",
       "\n",
       "    Short  Sport  Talk-Show  Thriller  War  Western  \n",
       "4       0      0          0         0    0        1  \n",
       "6       0      0          0         0    1        0  \n",
       "11      0      0          0         0    0        0  \n",
       "15      0      0          0         0    0        1  \n",
       "31      0      0          0         0    0        0  \n",
       "\n",
       "[5 rows x 38 columns]"
      ]
     },
     "execution_count": 273,
     "metadata": {},
     "output_type": "execute_result"
    }
   ],
   "source": [
    "prime_video_movies.head()"
   ]
  },
  {
   "cell_type": "code",
   "execution_count": 274,
   "metadata": {},
   "outputs": [
    {
     "name": "stdout",
     "output_type": "stream",
     "text": [
      "<class 'pandas.core.frame.DataFrame'>\n",
      "RangeIndex: 16744 entries, 0 to 16743\n",
      "Data columns (total 43 columns):\n",
      "ID                 16744 non-null int64\n",
      "Title              16744 non-null object\n",
      "Year               16744 non-null int64\n",
      "Age                7354 non-null object\n",
      "IMDb               16173 non-null float64\n",
      "Rotten Tomatoes    5158 non-null object\n",
      "Netflix            16744 non-null int64\n",
      "Hulu               16744 non-null int64\n",
      "Prime Video        16744 non-null int64\n",
      "Disney+            16744 non-null int64\n",
      "Type               16744 non-null int64\n",
      "Directors          16018 non-null object\n",
      "Genres             16469 non-null object\n",
      "Country            16309 non-null object\n",
      "Language           16145 non-null object\n",
      "Runtime            16152 non-null float64\n",
      "Action             16744 non-null int64\n",
      "Adventure          16744 non-null int64\n",
      "Animation          16744 non-null int64\n",
      "Biography          16744 non-null int64\n",
      "Comedy             16744 non-null int64\n",
      "Crime              16744 non-null int64\n",
      "Documentary        16744 non-null int64\n",
      "Drama              16744 non-null int64\n",
      "Family             16744 non-null int64\n",
      "Fantasy            16744 non-null int64\n",
      "Film-Noir          16744 non-null int64\n",
      "Game-Show          16744 non-null int64\n",
      "History            16744 non-null int64\n",
      "Horror             16744 non-null int64\n",
      "Music              16744 non-null int64\n",
      "Musical            16744 non-null int64\n",
      "Mystery            16744 non-null int64\n",
      "News               16744 non-null int64\n",
      "Reality-TV         16744 non-null int64\n",
      "Romance            16744 non-null int64\n",
      "Sci-Fi             16744 non-null int64\n",
      "Short              16744 non-null int64\n",
      "Sport              16744 non-null int64\n",
      "Talk-Show          16744 non-null int64\n",
      "Thriller           16744 non-null int64\n",
      "War                16744 non-null int64\n",
      "Western            16744 non-null int64\n",
      "dtypes: float64(2), int64(34), object(7)\n",
      "memory usage: 5.5+ MB\n"
     ]
    }
   ],
   "source": [
    "\n",
    "df.info()"
   ]
  },
  {
   "cell_type": "code",
   "execution_count": 275,
   "metadata": {},
   "outputs": [],
   "source": [
    "\n",
    "#Quantidade de filmes em cada plataforma para fazer um grafico\n",
    "netflix = netflix_movies.index\n",
    "tnetflix_movies = len(netflix)\n",
    "\n",
    "\n",
    "hulu = hulu_movies.index\n",
    "thulu_movies = len(hulu)\n",
    "\n",
    "prime = prime_video_movies.index\n",
    "tprime_movies = len(prime)\n",
    "\n",
    "disney = disney_movies.index\n",
    "tdisney_movies = len(disney)\n"
   ]
  },
  {
   "cell_type": "code",
   "execution_count": 276,
   "metadata": {},
   "outputs": [
    {
     "data": {
      "image/png": "[encoded data removed]",
      "text/plain": [
       "<Figure size 432x288 with 1 Axes>"
      ]
     },
     "metadata": {},
     "output_type": "display_data"
    }
   ],
   "source": [
    "\n",
    "labels = 'Netflix' , 'Hulu', 'Prime Video', 'Disney+'\n",
    "sizes = [tnetflix_movies,thulu_movies,tprime_movies,tdisney_movies]\n",
    "explode = (0.1, 0.1, 0.1, 0.1 )\n",
    "\n",
    "# define o formato de visualização com saída em 1.1%%, sombras e a separação entre as partes\n",
    "plt.pie(sizes, labels=labels, autopct='%1.1f%%', shadow=True, explode=explode)\n",
    "\n",
    "# inseri a legenda e a localização da legenda.\n",
    "plt.legend(labels, loc=4)\n",
    "\n",
    "\n",
    "# define que o gráfico será plotado em circulo\n",
    "plt.axis('equal')\n",
    "\n",
    "plt.show()"
   ]
  },
  {
   "cell_type": "markdown",
   "metadata": {},
   "source": [
    "**Quantidade de filmes por plataforma que tem nota acima de 8 no IMDb**"
   ]
  },
  {
   "cell_type": "code",
   "execution_count": 277,
   "metadata": {},
   "outputs": [
    {
     "name": "stdout",
     "output_type": "stream",
     "text": [
      "Total de filmes na Netflix com IMDb 8+: 129\n"
     ]
    }
   ],
   "source": [
    "\n",
    "rate_net = netflix_movies['IMDb'] > 8\n",
    "print(\"Total de filmes na Netflix com IMDb 8+:\",rate_net.sum())"
   ]
  },
  {
   "cell_type": "code",
   "execution_count": 278,
   "metadata": {},
   "outputs": [
    {
     "name": "stdout",
     "output_type": "stream",
     "text": [
      "Total de filmes na Disney com IMDb 8+: : 21\n"
     ]
    }
   ],
   "source": [
    "rate_dis = disney_movies['IMDb'] > 8\n",
    "print(\"Total de filmes na Disney com IMDb 8+: :\",rate_dis.sum())"
   ]
  },
  {
   "cell_type": "code",
   "execution_count": 279,
   "metadata": {},
   "outputs": [
    {
     "name": "stdout",
     "output_type": "stream",
     "text": [
      "Total de filmes no Prime Video com IMDb 8+:: 324\n"
     ]
    }
   ],
   "source": [
    "rate_prime = prime_video_movies['IMDb'] > 8\n",
    "print(\"Total de filmes no Prime Video com IMDb 8+::\",rate_prime.sum())"
   ]
  },
  {
   "cell_type": "code",
   "execution_count": 280,
   "metadata": {},
   "outputs": [
    {
     "name": "stdout",
     "output_type": "stream",
     "text": [
      "Total de filmes na HULU com IMDb 8+: : 23\n"
     ]
    }
   ],
   "source": [
    "rate_hulu = hulu_movies['IMDb'] > 8\n",
    "print(\"Total de filmes na HULU com IMDb 8+: :\",rate_hulu.sum())"
   ]
  },
  {
   "cell_type": "code",
   "execution_count": 281,
   "metadata": {},
   "outputs": [
    {
     "data": {
      "image/png": "[encoded data removed]",
      "text/plain": [
       "<Figure size 432x288 with 1 Axes>"
      ]
     },
     "metadata": {},
     "output_type": "display_data"
    }
   ],
   "source": [
    "valores = [rate_net.sum(),rate_dis.sum(),rate_prime.sum(),rate_hulu.sum()]\n",
    "plataformas = ['Netflix', 'Disney', 'Prime Video', 'Hulu']\n",
    "plt.bar(plataformas, valores)\n",
    "plt.show()"
   ]
  },
  {
   "cell_type": "code",
   "execution_count": 282,
   "metadata": {},
   "outputs": [],
   "source": [
    "oldf= pd.read_csv('MoviesOnStreamingPlatforms_updated.csv', sep=',' )"
   ]
  },
  {
   "cell_type": "code",
   "execution_count": 283,
   "metadata": {},
   "outputs": [],
   "source": [
    "oldf = oldf.drop(['Unnamed: 0'], axis=1) "
   ]
  },
  {
   "cell_type": "code",
   "execution_count": 284,
   "metadata": {},
   "outputs": [],
   "source": [
    "oldf = oldf.drop(['Type'], axis=1) "
   ]
  },
  {
   "cell_type": "code",
   "execution_count": 285,
   "metadata": {},
   "outputs": [
    {
     "data": {
      "image/png": "[encoded data removed]",
      "text/plain": [
       "<Figure size 720x504 with 2 Axes>"
      ]
     },
     "metadata": {},
     "output_type": "display_data"
    }
   ],
   "source": [
    "import matplotlib.pyplot as plt\n",
    "import seaborn as sns\n",
    "plt.figure(figsize=(10, 7))\n",
    "sns.heatmap(oldf.corr(),\n",
    "            annot = True,\n",
    "            fmt = '.2f',\n",
    "            cmap='Blues')\n",
    "plt.title('Correlação entre variáveis do dataset')\n",
    "plt.show()"
   ]
  },
  {
   "cell_type": "markdown",
   "metadata": {},
   "source": [
    "# Etapa 2"
   ]
  },
  {
   "cell_type": "markdown",
   "metadata": {},
   "source": [
    "# Experimento 1\n"
   ]
  },
  {
   "cell_type": "markdown",
   "metadata": {},
   "source": [
    "## Regressão Linear\n",
    "\n",
    "Regressão linear em que x=df['Director] e y=df['IMDb']"
   ]
  },
  {
   "cell_type": "code",
   "execution_count": 286,
   "metadata": {},
   "outputs": [],
   "source": [
    "df.head(5);"
   ]
  },
  {
   "cell_type": "code",
   "execution_count": 287,
   "metadata": {},
   "outputs": [],
   "source": [
    "df.columns;"
   ]
  },
  {
   "cell_type": "code",
   "execution_count": 288,
   "metadata": {},
   "outputs": [],
   "source": [
    "df['Directors'].unique();"
   ]
  },
  {
   "cell_type": "code",
   "execution_count": 289,
   "metadata": {},
   "outputs": [],
   "source": [
    "df['IMDb'].unique();"
   ]
  },
  {
   "cell_type": "code",
   "execution_count": 290,
   "metadata": {},
   "outputs": [],
   "source": [
    "  df['Directors'] = df['Directors'].astype('category')"
   ]
  },
  {
   "cell_type": "code",
   "execution_count": 291,
   "metadata": {},
   "outputs": [],
   "source": [
    "# Assigning numerical values and storing in another column\n",
    "df['Directors_Cat'] = df['Directors'].cat.codes\n"
   ]
  },
  {
   "cell_type": "code",
   "execution_count": 292,
   "metadata": {},
   "outputs": [],
   "source": [
    "df=df.dropna(axis=0, how='any', thresh=None, subset=['Directors_Cat','Directors','IMDb'], inplace=False)"
   ]
  },
  {
   "cell_type": "code",
   "execution_count": 293,
   "metadata": {},
   "outputs": [],
   "source": [
    "df.isnull().sum();"
   ]
  },
  {
   "cell_type": "code",
   "execution_count": 294,
   "metadata": {},
   "outputs": [],
   "source": [
    "previsor = df['Directors_Cat']"
   ]
  },
  {
   "cell_type": "code",
   "execution_count": 295,
   "metadata": {},
   "outputs": [],
   "source": [
    "independente= df['IMDb']"
   ]
  },
  {
   "cell_type": "code",
   "execution_count": 296,
   "metadata": {},
   "outputs": [],
   "source": [
    "from sklearn.model_selection import train_test_split\n",
    "xr_train, xr_test, yr_train, yr_test = train_test_split( previsor, independente , test_size=0.3)"
   ]
  },
  {
   "cell_type": "code",
   "execution_count": 297,
   "metadata": {},
   "outputs": [
    {
     "data": {
      "text/plain": [
       "((10983,), (10983,))"
      ]
     },
     "execution_count": 297,
     "metadata": {},
     "output_type": "execute_result"
    }
   ],
   "source": [
    "xr_train.shape, yr_train.shape"
   ]
  },
  {
   "cell_type": "code",
   "execution_count": 298,
   "metadata": {},
   "outputs": [
    {
     "data": {
      "text/plain": [
       "((4707,), (4707,))"
      ]
     },
     "execution_count": 298,
     "metadata": {},
     "output_type": "execute_result"
    }
   ],
   "source": [
    "xr_test.shape, yr_test.shape"
   ]
  },
  {
   "cell_type": "code",
   "execution_count": 299,
   "metadata": {},
   "outputs": [],
   "source": [
    "from sklearn.linear_model import LinearRegression\n",
    "lreg = LinearRegression() #cria o modelo"
   ]
  },
  {
   "cell_type": "code",
   "execution_count": 300,
   "metadata": {},
   "outputs": [],
   "source": [
    "xr_train = xr_train.values.reshape(-1,1)\n",
    "xr_test = xr_test.values.reshape(-1,1)\n",
    "\n",
    "\n",
    "yr_test = yr_test.values.reshape(-1,1)"
   ]
  },
  {
   "cell_type": "code",
   "execution_count": 301,
   "metadata": {},
   "outputs": [
    {
     "data": {
      "text/plain": [
       "LinearRegression(copy_X=True, fit_intercept=True, n_jobs=1, normalize=False)"
      ]
     },
     "execution_count": 301,
     "metadata": {},
     "output_type": "execute_result"
    }
   ],
   "source": [
    "lreg.fit(xr_train,yr_train) #treina o modelo"
   ]
  },
  {
   "cell_type": "code",
   "execution_count": 302,
   "metadata": {},
   "outputs": [],
   "source": [
    "pred = lreg.predict(xr_test) "
   ]
  },
  {
   "cell_type": "code",
   "execution_count": 303,
   "metadata": {},
   "outputs": [
    {
     "data": {
      "image/png": "[encoded data removed]",
      "text/plain": [
       "<Figure size 432x288 with 1 Axes>"
      ]
     },
     "metadata": {
      "needs_background": "light"
     },
     "output_type": "display_data"
    }
   ],
   "source": [
    "import matplotlib.pyplot as plt\n",
    "%matplotlib inline\n",
    "plt.scatter(yr_test, pred)\n",
    "range = [yr_test.min(), pred.max()]\n",
    "plt.plot(range, range, 'red')\n",
    "plt.xlabel('Nota Real')\n",
    "plt.ylabel('Nota predit')\n",
    "plt.ylim(0,20)\n",
    "plt.show()"
   ]
  },
  {
   "cell_type": "code",
   "execution_count": 304,
   "metadata": {},
   "outputs": [
    {
     "data": {
      "text/plain": [
       "[<matplotlib.lines.Line2D at 0x1a0862f9898>]"
      ]
     },
     "execution_count": 304,
     "metadata": {},
     "output_type": "execute_result"
    },
    {
     "data": {
      "image/png": "[encoded data removed]",
      "text/plain": [
       "<Figure size 432x288 with 1 Axes>"
      ]
     },
     "metadata": {
      "needs_background": "light"
     },
     "output_type": "display_data"
    }
   ],
   "source": [
    "plt.scatter(xr_test,yr_test,  color='green')\n",
    "plt.plot(xr_test, pred, color='black', linewidth=3)"
   ]
  },
  {
   "cell_type": "code",
   "execution_count": 305,
   "metadata": {},
   "outputs": [
    {
     "data": {
      "text/plain": [
       "1.8390507611052143"
      ]
     },
     "execution_count": 305,
     "metadata": {},
     "output_type": "execute_result"
    }
   ],
   "source": [
    "mse = np.mean((pred - yr_test)**2)\n",
    "mse"
   ]
  },
  {
   "cell_type": "code",
   "execution_count": 306,
   "metadata": {},
   "outputs": [
    {
     "data": {
      "text/plain": [
       "-0.0007542192300458161"
      ]
     },
     "execution_count": 306,
     "metadata": {},
     "output_type": "execute_result"
    }
   ],
   "source": [
    "#É uma medida estatística de quão próximo os dados estão da linha de regressão.\n",
    "#Varia entre 0 e 1, indicando percentualmente, o quanto o modelo consegue explicar os valores observados.\n",
    "lreg.score(xr_test,yr_test)"
   ]
  },
  {
   "cell_type": "markdown",
   "metadata": {},
   "source": [
    "## Redes Neurais"
   ]
  },
  {
   "cell_type": "code",
   "execution_count": 338,
   "metadata": {},
   "outputs": [],
   "source": [
    "previsor=previsor.astype('int')\n",
    "independente=independente.astype('int')"
   ]
  },
  {
   "cell_type": "code",
   "execution_count": 341,
   "metadata": {},
   "outputs": [],
   "source": [
    "from sklearn.model_selection import train_test_split\n",
    "xr_train, xr_test, yr_train, yr_test = train_test_split( previsor, independente , test_size=0.3)\n",
    "\n",
    "xr_train = xr_train.values.reshape(-1,1)\n",
    "xr_test = xr_test.values.reshape(-1,1)\n",
    "yr_test = yr_test.values.reshape(-1,1)"
   ]
  },
  {
   "cell_type": "code",
   "execution_count": 343,
   "metadata": {},
   "outputs": [],
   "source": [
    "from sklearn.neural_network import MLPClassifier\n",
    "clf1 = MLPClassifier(alpha=0.01,max_iter=2000, hidden_layer_sizes=20,activation='relu')\n",
    "clf1.fit(xr_train,yr_train)\n",
    "yp1=clf1.predict(xr_test)"
   ]
  },
  {
   "cell_type": "code",
   "execution_count": 345,
   "metadata": {},
   "outputs": [
    {
     "name": "stdout",
     "output_type": "stream",
     "text": [
      "             precision    recall  f1-score   support\n",
      "\n",
      "          0       0.00      0.00      0.00         1\n",
      "          1       0.00      0.00      0.00        14\n",
      "          2       0.00      0.00      0.00       121\n",
      "          3       0.00      0.00      0.00       275\n",
      "          4       0.00      0.00      0.00       613\n",
      "          5       0.24      1.00      0.38      1121\n",
      "          6       0.00      0.00      0.00      1415\n",
      "          7       0.00      0.00      0.00       981\n",
      "          8       0.00      0.00      0.00       162\n",
      "          9       0.00      0.00      0.00         4\n",
      "\n",
      "avg / total       0.06      0.24      0.09      4707\n",
      "\n"
     ]
    },
    {
     "name": "stderr",
     "output_type": "stream",
     "text": [
      "C:\\Users\\mayar\\Anaconda3\\lib\\site-packages\\sklearn\\metrics\\classification.py:1135: UndefinedMetricWarning: Precision and F-score are ill-defined and being set to 0.0 in labels with no predicted samples.\n",
      "  'precision', 'predicted', average, warn_for)\n"
     ]
    }
   ],
   "source": [
    "from sklearn.metrics import classification_report\n",
    "print(classification_report(yr_test, yp1))"
   ]
  },
  {
   "cell_type": "markdown",
   "metadata": {},
   "source": [
    "# Experimento 2"
   ]
  },
  {
   "cell_type": "markdown",
   "metadata": {},
   "source": [
    "## Regressão"
   ]
  },
  {
   "cell_type": "code",
   "execution_count": 310,
   "metadata": {},
   "outputs": [],
   "source": [
    "X2=df['Year']"
   ]
  },
  {
   "cell_type": "code",
   "execution_count": 311,
   "metadata": {},
   "outputs": [],
   "source": [
    "y2=df['IMDb']"
   ]
  },
  {
   "cell_type": "code",
   "execution_count": 312,
   "metadata": {},
   "outputs": [],
   "source": [
    "from sklearn.model_selection import train_test_split\n",
    "x2_train, x2_test, y2_train, y2_test = train_test_split( X2, y2 , test_size=0.3)"
   ]
  },
  {
   "cell_type": "code",
   "execution_count": 313,
   "metadata": {},
   "outputs": [],
   "source": [
    "from sklearn.linear_model import LinearRegression\n",
    "reg2 = LinearRegression() #cria o modelo"
   ]
  },
  {
   "cell_type": "code",
   "execution_count": 314,
   "metadata": {},
   "outputs": [],
   "source": [
    "x2_train = x2_train.values.reshape(-1,1)\n",
    "x2_test = x2_test.values.reshape(-1,1)\n",
    "\n",
    "\n",
    "y2_test = y2_test.values.reshape(-1,1)"
   ]
  },
  {
   "cell_type": "code",
   "execution_count": 327,
   "metadata": {},
   "outputs": [
    {
     "data": {
      "text/plain": [
       "LinearRegression(copy_X=True, fit_intercept=True, n_jobs=1, normalize=False)"
      ]
     },
     "execution_count": 327,
     "metadata": {},
     "output_type": "execute_result"
    }
   ],
   "source": [
    "reg2.fit(x2_train,y2_train) #treina o modelo"
   ]
  },
  {
   "cell_type": "code",
   "execution_count": 328,
   "metadata": {},
   "outputs": [],
   "source": [
    "pred2 = reg2.predict(x2_test) "
   ]
  },
  {
   "cell_type": "code",
   "execution_count": 330,
   "metadata": {},
   "outputs": [
    {
     "data": {
      "image/png": "[encoded data removed]",
      "text/plain": [
       "<Figure size 432x288 with 1 Axes>"
      ]
     },
     "metadata": {
      "needs_background": "light"
     },
     "output_type": "display_data"
    }
   ],
   "source": [
    "import matplotlib.pyplot as plt\n",
    "%matplotlib inline\n",
    "plt.scatter(y2_test, pred2)\n",
    "range = [y2_test.min(), pred.max()]\n",
    "plt.plot(range, range, 'red')\n",
    "plt.xlabel('Nota Real')\n",
    "plt.ylabel('Nota predit')\n",
    "plt.ylim(0,20)\n",
    "plt.show()"
   ]
  },
  {
   "cell_type": "code",
   "execution_count": 319,
   "metadata": {},
   "outputs": [
    {
     "data": {
      "text/plain": [
       "-0.00011710172826173704"
      ]
     },
     "execution_count": 319,
     "metadata": {},
     "output_type": "execute_result"
    }
   ],
   "source": [
    "reg2.score(x2_test,y2_test)"
   ]
  },
  {
   "cell_type": "markdown",
   "metadata": {},
   "source": [
    "## Redes Neurais"
   ]
  },
  {
   "cell_type": "code",
   "execution_count": 347,
   "metadata": {},
   "outputs": [],
   "source": [
    "X2=X2.astype('int')\n",
    "y2=y2.astype('int')"
   ]
  },
  {
   "cell_type": "code",
   "execution_count": 348,
   "metadata": {},
   "outputs": [],
   "source": [
    "from sklearn.model_selection import train_test_split\n",
    "x2_train, x2_test, y2_train, y2_test = train_test_split( X2, y2 , test_size=0.3)\n",
    "\n",
    "x2_train = x2_train.values.reshape(-1,1)\n",
    "x2_test = x2_test.values.reshape(-1,1)\n",
    "y2_test = y2_test.values.reshape(-1,1)"
   ]
  },
  {
   "cell_type": "code",
   "execution_count": 349,
   "metadata": {},
   "outputs": [],
   "source": [
    "from sklearn.neural_network import MLPClassifier\n",
    "clf2 = MLPClassifier(alpha=0.01,max_iter=2000, hidden_layer_sizes=20,activation='relu')\n",
    "clf2.fit(x2_train,y2_train)\n",
    "yp2=clf1.predict(x2_test)"
   ]
  },
  {
   "cell_type": "code",
   "execution_count": 350,
   "metadata": {},
   "outputs": [
    {
     "name": "stdout",
     "output_type": "stream",
     "text": [
      "             precision    recall  f1-score   support\n",
      "\n",
      "          0       0.00      0.00      0.00         1\n",
      "          1       0.00      0.00      0.00        14\n",
      "          2       0.00      0.00      0.00       121\n",
      "          3       0.00      0.00      0.00       275\n",
      "          4       0.00      0.00      0.00       613\n",
      "          5       0.24      1.00      0.38      1121\n",
      "          6       0.00      0.00      0.00      1415\n",
      "          7       0.00      0.00      0.00       981\n",
      "          8       0.00      0.00      0.00       162\n",
      "          9       0.00      0.00      0.00         4\n",
      "\n",
      "avg / total       0.06      0.24      0.09      4707\n",
      "\n"
     ]
    },
    {
     "name": "stderr",
     "output_type": "stream",
     "text": [
      "C:\\Users\\mayar\\Anaconda3\\lib\\site-packages\\sklearn\\metrics\\classification.py:1135: UndefinedMetricWarning: Precision and F-score are ill-defined and being set to 0.0 in labels with no predicted samples.\n",
      "  'precision', 'predicted', average, warn_for)\n"
     ]
    }
   ],
   "source": [
    "from sklearn.metrics import classification_report\n",
    "print(classification_report(yr_test, yp1))"
   ]
  },
  {
   "cell_type": "markdown",
   "metadata": {},
   "source": [
    "# Experimento 3"
   ]
  },
  {
   "cell_type": "code",
   "execution_count": 320,
   "metadata": {},
   "outputs": [],
   "source": [
    "X3 = df['Directors_Cat']"
   ]
  },
  {
   "cell_type": "code",
   "execution_count": 321,
   "metadata": {},
   "outputs": [],
   "source": [
    "y3=df['Year']"
   ]
  },
  {
   "cell_type": "code",
   "execution_count": 322,
   "metadata": {},
   "outputs": [],
   "source": [
    "from sklearn.model_selection import train_test_split\n",
    "x3_train, x3_test, y3_train, y3_test = train_test_split( X3, y3 , test_size=0.3)"
   ]
  },
  {
   "cell_type": "code",
   "execution_count": 323,
   "metadata": {},
   "outputs": [],
   "source": [
    "from sklearn.linear_model import LinearRegression\n",
    "reg3 = LinearRegression() #cria o modelo"
   ]
  },
  {
   "cell_type": "code",
   "execution_count": 324,
   "metadata": {},
   "outputs": [],
   "source": [
    "x3_train = x3_train.values.reshape(-1,1)\n",
    "x3_test = x3_test.values.reshape(-1,1)\n",
    "\n",
    "y3_test = y3_test.values.reshape(-1,1)"
   ]
  },
  {
   "cell_type": "code",
   "execution_count": 326,
   "metadata": {},
   "outputs": [
    {
     "data": {
      "text/plain": [
       "LinearRegression(copy_X=True, fit_intercept=True, n_jobs=1, normalize=False)"
      ]
     },
     "execution_count": 326,
     "metadata": {},
     "output_type": "execute_result"
    }
   ],
   "source": [
    "reg3.fit(x3_train,y3_train) #treina o modelo"
   ]
  },
  {
   "cell_type": "code",
   "execution_count": 329,
   "metadata": {},
   "outputs": [],
   "source": [
    "pred3 = reg3.predict(x2_test) "
   ]
  },
  {
   "cell_type": "code",
   "execution_count": 332,
   "metadata": {},
   "outputs": [
    {
     "data": {
      "text/plain": [
       "[<matplotlib.lines.Line2D at 0x1a0882e8588>]"
      ]
     },
     "execution_count": 332,
     "metadata": {},
     "output_type": "execute_result"
    },
    {
     "data": {
      "image/png": "[encoded data removed]",
      "text/plain": [
       "<Figure size 432x288 with 1 Axes>"
      ]
     },
     "metadata": {
      "needs_background": "light"
     },
     "output_type": "display_data"
    }
   ],
   "source": [
    "import matplotlib.pyplot as plt\n",
    "%matplotlib inline\n",
    "plt.scatter(x3_test,y3_test,  color='green')\n",
    "plt.plot(x3_test, pred3, color='black', linewidth=3)"
   ]
  },
  {
   "cell_type": "code",
   "execution_count": 333,
   "metadata": {},
   "outputs": [
    {
     "data": {
      "text/plain": [
       "-5.777068761592119e-06"
      ]
     },
     "execution_count": 333,
     "metadata": {},
     "output_type": "execute_result"
    }
   ],
   "source": [
    "reg3.score(x3_test,y3_test)"
   ]
  }
 ],
 "metadata": {
  "kernelspec": {
   "display_name": "Python 3",
   "language": "python",
   "name": "python3"
  },
  "language_info": {
   "codemirror_mode": {
    "name": "ipython",
    "version": 3
   },
   "file_extension": ".py",
   "mimetype": "text/x-python",
   "name": "python",
   "nbconvert_exporter": "python",
   "pygments_lexer": "ipython3",
   "version": "3.7.0"
  }
 },
 "nbformat": 4,
 "nbformat_minor": 2
}
