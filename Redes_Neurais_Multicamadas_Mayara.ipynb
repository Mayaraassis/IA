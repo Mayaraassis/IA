{
  "nbformat": 4,
  "nbformat_minor": 0,
  "metadata": {
    "colab": {
      "name": "Redes_Neurais_Multicamadas_Mayara.ipynb",
      "provenance": [],
      "authorship_tag": "ABX9TyMaF9J1mxoAUXy3t+YuQrzP",
      "include_colab_link": true
    },
    "kernelspec": {
      "name": "python3",
      "display_name": "Python 3"
    }
  },
  "cells": [
    {
      "cell_type": "markdown",
      "metadata": {
        "id": "view-in-github",
        "colab_type": "text"
      },
      "source": [
        "<a href=\"https://colab.research.google.com/github/Mayaraassis/IA/blob/master/Redes_Neurais_Multicamadas_Mayara.ipynb\" target=\"_parent\"><img src=\"https://colab.research.google.com/assets/colab-badge.svg\" alt=\"Open In Colab\"/></a>"
      ]
    },
    {
      "cell_type": "code",
      "metadata": {
        "id": "0gELTQYVZ9nr"
      },
      "source": [
        "#Carregar base de dados\n",
        "from sklearn import datasets\n",
        "wine = datasets.load_wine()\n"
      ],
      "execution_count": 57,
      "outputs": []
    },
    {
      "cell_type": "code",
      "metadata": {
        "id": "KkWmI1PyxjsH",
        "outputId": "5b8e378f-c929-4ea6-be27-5096a445b05a",
        "colab": {
          "base_uri": "https://localhost:8080/"
        }
      },
      "source": [
        "print(wine.DESCR)"
      ],
      "execution_count": 58,
      "outputs": [
        {
          "output_type": "stream",
          "text": [
            ".. _wine_dataset:\n",
            "\n",
            "Wine recognition dataset\n",
            "------------------------\n",
            "\n",
            "**Data Set Characteristics:**\n",
            "\n",
            "    :Number of Instances: 178 (50 in each of three classes)\n",
            "    :Number of Attributes: 13 numeric, predictive attributes and the class\n",
            "    :Attribute Information:\n",
            " \t\t- Alcohol\n",
            " \t\t- Malic acid\n",
            " \t\t- Ash\n",
            "\t\t- Alcalinity of ash  \n",
            " \t\t- Magnesium\n",
            "\t\t- Total phenols\n",
            " \t\t- Flavanoids\n",
            " \t\t- Nonflavanoid phenols\n",
            " \t\t- Proanthocyanins\n",
            "\t\t- Color intensity\n",
            " \t\t- Hue\n",
            " \t\t- OD280/OD315 of diluted wines\n",
            " \t\t- Proline\n",
            "\n",
            "    - class:\n",
            "            - class_0\n",
            "            - class_1\n",
            "            - class_2\n",
            "\t\t\n",
            "    :Summary Statistics:\n",
            "    \n",
            "    ============================= ==== ===== ======= =====\n",
            "                                   Min   Max   Mean     SD\n",
            "    ============================= ==== ===== ======= =====\n",
            "    Alcohol:                      11.0  14.8    13.0   0.8\n",
            "    Malic Acid:                   0.74  5.80    2.34  1.12\n",
            "    Ash:                          1.36  3.23    2.36  0.27\n",
            "    Alcalinity of Ash:            10.6  30.0    19.5   3.3\n",
            "    Magnesium:                    70.0 162.0    99.7  14.3\n",
            "    Total Phenols:                0.98  3.88    2.29  0.63\n",
            "    Flavanoids:                   0.34  5.08    2.03  1.00\n",
            "    Nonflavanoid Phenols:         0.13  0.66    0.36  0.12\n",
            "    Proanthocyanins:              0.41  3.58    1.59  0.57\n",
            "    Colour Intensity:              1.3  13.0     5.1   2.3\n",
            "    Hue:                          0.48  1.71    0.96  0.23\n",
            "    OD280/OD315 of diluted wines: 1.27  4.00    2.61  0.71\n",
            "    Proline:                       278  1680     746   315\n",
            "    ============================= ==== ===== ======= =====\n",
            "\n",
            "    :Missing Attribute Values: None\n",
            "    :Class Distribution: class_0 (59), class_1 (71), class_2 (48)\n",
            "    :Creator: R.A. Fisher\n",
            "    :Donor: Michael Marshall (MARSHALL%PLU@io.arc.nasa.gov)\n",
            "    :Date: July, 1988\n",
            "\n",
            "This is a copy of UCI ML Wine recognition datasets.\n",
            "https://archive.ics.uci.edu/ml/machine-learning-databases/wine/wine.data\n",
            "\n",
            "The data is the results of a chemical analysis of wines grown in the same\n",
            "region in Italy by three different cultivators. There are thirteen different\n",
            "measurements taken for different constituents found in the three types of\n",
            "wine.\n",
            "\n",
            "Original Owners: \n",
            "\n",
            "Forina, M. et al, PARVUS - \n",
            "An Extendible Package for Data Exploration, Classification and Correlation. \n",
            "Institute of Pharmaceutical and Food Analysis and Technologies,\n",
            "Via Brigata Salerno, 16147 Genoa, Italy.\n",
            "\n",
            "Citation:\n",
            "\n",
            "Lichman, M. (2013). UCI Machine Learning Repository\n",
            "[https://archive.ics.uci.edu/ml]. Irvine, CA: University of California,\n",
            "School of Information and Computer Science. \n",
            "\n",
            ".. topic:: References\n",
            "\n",
            "  (1) S. Aeberhard, D. Coomans and O. de Vel, \n",
            "  Comparison of Classifiers in High Dimensional Settings, \n",
            "  Tech. Rep. no. 92-02, (1992), Dept. of Computer Science and Dept. of  \n",
            "  Mathematics and Statistics, James Cook University of North Queensland. \n",
            "  (Also submitted to Technometrics). \n",
            "\n",
            "  The data was used with many others for comparing various \n",
            "  classifiers. The classes are separable, though only RDA \n",
            "  has achieved 100% correct classification. \n",
            "  (RDA : 100%, QDA 99.4%, LDA 98.9%, 1NN 96.1% (z-transformed data)) \n",
            "  (All results using the leave-one-out technique) \n",
            "\n",
            "  (2) S. Aeberhard, D. Coomans and O. de Vel, \n",
            "  \"THE CLASSIFICATION PERFORMANCE OF RDA\" \n",
            "  Tech. Rep. no. 92-01, (1992), Dept. of Computer Science and Dept. of \n",
            "  Mathematics and Statistics, James Cook University of North Queensland. \n",
            "  (Also submitted to Journal of Chemometrics).\n",
            "\n"
          ],
          "name": "stdout"
        }
      ]
    },
    {
      "cell_type": "code",
      "metadata": {
        "id": "F4mzFdvMaEbs"
      },
      "source": [
        "#Fazer validação cruzada\n",
        "from sklearn.model_selection import train_test_split\n",
        "\n",
        "X_training, X_testing, y_training, y_testing = train_test_split(\n",
        "   wine.data[:,:12], wine.target, test_size=0.4\n",
        ")"
      ],
      "execution_count": 59,
      "outputs": []
    },
    {
      "cell_type": "code",
      "metadata": {
        "id": "Ghz2OnJ-aIJa"
      },
      "source": [
        "#Treinar o modelo\n",
        "from sklearn.neural_network import MLPClassifier\n",
        "clf = MLPClassifier(alpha=0.01,max_iter=2000, hidden_layer_sizes=20,activation='relu')\n",
        "clf.fit(X_training, y_training)\n",
        "\n",
        "yp=clf.predict(X_testing)"
      ],
      "execution_count": 60,
      "outputs": []
    },
    {
      "cell_type": "code",
      "metadata": {
        "id": "f12Sb_NzabjY",
        "outputId": "edb1393c-accb-486e-d2d7-0b79c2f6ca85",
        "colab": {
          "base_uri": "https://localhost:8080/",
          "height": 709
        }
      },
      "source": [
        "#Analisar o resultados\n",
        "from sklearn.metrics import plot_confusion_matrix\n",
        "import matplotlib.pyplot as plt\n",
        "titles_options = [(\"Matriz de confusão, sem normalizar\", None),\n",
        "                  (\"Matriz de confusão normalizada\", 'true')]\n",
        "for title, normalize in titles_options:\n",
        "    disp = plot_confusion_matrix(clf, X_testing, y_testing,\n",
        "                                 cmap=plt.cm.Blues,\n",
        "                                 normalize=normalize)\n",
        "    disp.ax_.set_title(title)\n",
        "\n",
        "    print(title)\n",
        "    print(disp.confusion_matrix)\n",
        "\n",
        "plt.show()"
      ],
      "execution_count": 61,
      "outputs": [
        {
          "output_type": "stream",
          "text": [
            "Matriz de confusão, sem normalizar\n",
            "[[ 1 12 14]\n",
            " [ 0 19  6]\n",
            " [ 0 19  1]]\n",
            "Matriz de confusão normalizada\n",
            "[[0.03703704 0.44444444 0.51851852]\n",
            " [0.         0.76       0.24      ]\n",
            " [0.         0.95       0.05      ]]\n"
          ],
          "name": "stdout"
        },
        {
          "output_type": "display_data",
          "data": {
            "image/png": "[encoded data removed]",
            "text/plain": [
              "<Figure size 432x288 with 2 Axes>"
            ]
          },
          "metadata": {
            "tags": [],
            "needs_background": "light"
          }
        },
        {
          "output_type": "display_data",
          "data": {
            "image/png": "[encoded data removed]",
            "text/plain": [
              "<Figure size 432x288 with 2 Axes>"
            ]
          },
          "metadata": {
            "tags": [],
            "needs_background": "light"
          }
        }
      ]
    },
    {
      "cell_type": "code",
      "metadata": {
        "id": "BJPpqrmKajPY",
        "outputId": "1790c0e0-7dea-428b-8831-35568d43ca90",
        "colab": {
          "base_uri": "https://localhost:8080/"
        }
      },
      "source": [
        "from sklearn.metrics import classification_report\n",
        "print(classification_report(y_testing, yp))"
      ],
      "execution_count": 62,
      "outputs": [
        {
          "output_type": "stream",
          "text": [
            "              precision    recall  f1-score   support\n",
            "\n",
            "           0       1.00      0.04      0.07        27\n",
            "           1       0.38      0.76      0.51        25\n",
            "           2       0.05      0.05      0.05        20\n",
            "\n",
            "    accuracy                           0.29        72\n",
            "   macro avg       0.48      0.28      0.21        72\n",
            "weighted avg       0.52      0.29      0.22        72\n",
            "\n"
          ],
          "name": "stdout"
        }
      ]
    },
    {
      "cell_type": "code",
      "metadata": {
        "id": "qIWKn4elanO_",
        "outputId": "8e27f4a4-aa7c-4ce8-ceac-661bab022471",
        "colab": {
          "base_uri": "https://localhost:8080/",
          "height": 307
        }
      },
      "source": [
        "#correlação para tentar melhorar os resultados\n",
        "import seaborn as sns\n",
        "import numpy as np\n",
        "import pandas\n",
        "\n",
        "tabela = pandas.DataFrame(wine.data)\n",
        "tabela['classe'] = wine.target\n",
        "correlacoes = tabela.corr()\n",
        "sns.heatmap(correlacoes, cmap=\"YlGnBu\", annot = True)"
      ],
      "execution_count": 63,
      "outputs": [
        {
          "output_type": "execute_result",
          "data": {
            "text/plain": [
              "<matplotlib.axes._subplots.AxesSubplot at 0x7f57ab0674a8>"
            ]
          },
          "metadata": {
            "tags": []
          },
          "execution_count": 63
        },
        {
          "output_type": "display_data",
          "data": {
            "image/png": "[encoded data removed]",
            "text/plain": [
              "<Figure size 432x288 with 2 Axes>"
            ]
          },
          "metadata": {
            "tags": [],
            "needs_background": "light"
          }
        }
      ]
    },
    {
      "cell_type": "code",
      "metadata": {
        "id": "638XLC2Ea0n1"
      },
      "source": [
        "#escolher as duas variaveis mais correlacionadas com a saida\n",
        "wine_n = np.array(wine.data[:,[5,6,8,9]])\n",
        "Xn_training, Xn_testing, yn_training, yn_testing = train_test_split(\n",
        "   wine_n, wine.target, test_size=0.4\n",
        ")"
      ],
      "execution_count": 64,
      "outputs": []
    },
    {
      "cell_type": "code",
      "metadata": {
        "id": "weIVqsdva91K"
      },
      "source": [
        "from sklearn.neural_network import MLPClassifier\n",
        "clf = MLPClassifier(alpha=0.1,max_iter=2000, hidden_layer_sizes=20,activation='relu')\n",
        "clf.fit(Xn_training, yn_training)\n",
        "\n",
        "yp=clf.predict(Xn_testing)"
      ],
      "execution_count": 65,
      "outputs": []
    },
    {
      "cell_type": "code",
      "metadata": {
        "id": "Ml1Nbz_hbB9a",
        "outputId": "c8105d44-98c1-4d45-9d53-0a59d2ff9c51",
        "colab": {
          "base_uri": "https://localhost:8080/",
          "height": 709
        }
      },
      "source": [
        "from sklearn.metrics import plot_confusion_matrix\n",
        "import matplotlib.pyplot as plt\n",
        "titles_options = [(\"Matriz de confusão, sem normalizar\", None),\n",
        "                  (\"Matriz de confusão normalizada\", 'true')]\n",
        "for title, normalize in titles_options:\n",
        "    disp = plot_confusion_matrix(clf, Xn_testing, yn_testing,\n",
        "                                 cmap=plt.cm.Blues,\n",
        "                                 normalize=normalize)\n",
        "    disp.ax_.set_title(title)\n",
        "\n",
        "    print(title)\n",
        "    print(disp.confusion_matrix)\n",
        "\n",
        "plt.show()"
      ],
      "execution_count": 66,
      "outputs": [
        {
          "output_type": "stream",
          "text": [
            "Matriz de confusão, sem normalizar\n",
            "[[26  2  0]\n",
            " [ 6 22  1]\n",
            " [ 0  1 14]]\n",
            "Matriz de confusão normalizada\n",
            "[[0.92857143 0.07142857 0.        ]\n",
            " [0.20689655 0.75862069 0.03448276]\n",
            " [0.         0.06666667 0.93333333]]\n"
          ],
          "name": "stdout"
        },
        {
          "output_type": "display_data",
          "data": {
            "image/png": "[encoded data removed]",
            "text/plain": [
              "<Figure size 432x288 with 2 Axes>"
            ]
          },
          "metadata": {
            "tags": [],
            "needs_background": "light"
          }
        },
        {
          "output_type": "display_data",
          "data": {
            "image/png": "[encoded data removed]",
            "text/plain": [
              "<Figure size 432x288 with 2 Axes>"
            ]
          },
          "metadata": {
            "tags": [],
            "needs_background": "light"
          }
        }
      ]
    },
    {
      "cell_type": "markdown",
      "metadata": {
        "id": "BFPe_0gNR1Rt"
      },
      "source": [
        "**Arvore de decisão**\n"
      ]
    },
    {
      "cell_type": "code",
      "metadata": {
        "id": "BgOspwRKSBRG"
      },
      "source": [
        "\n",
        "from sklearn.model_selection import train_test_split\n",
        "\n",
        "wine_dt = np.array(wine.data[:,[5,6,8,9]])\n",
        "Xdt_training, Xdt_testing, ydt_training, ydt_testing = train_test_split(\n",
        "   wine_dt, wine.target, test_size=0.4\n",
        ")"
      ],
      "execution_count": 67,
      "outputs": []
    },
    {
      "cell_type": "code",
      "metadata": {
        "id": "bTRwpSsWS28w"
      },
      "source": [
        "from sklearn import tree\n",
        "clf_dt = tree.DecisionTreeClassifier()"
      ],
      "execution_count": 68,
      "outputs": []
    },
    {
      "cell_type": "code",
      "metadata": {
        "id": "3hP2Xtn5TWXF"
      },
      "source": [
        "clf_dt = clf_dt.fit(Xdt_training,ydt_training)"
      ],
      "execution_count": 69,
      "outputs": []
    },
    {
      "cell_type": "code",
      "metadata": {
        "id": "vgpVMqjzTjOf"
      },
      "source": [
        "dt=clf_dt.predict(Xdt_testing)"
      ],
      "execution_count": 70,
      "outputs": []
    },
    {
      "cell_type": "code",
      "metadata": {
        "id": "UREa5VasT9IZ",
        "outputId": "0441295f-8b47-4bce-ef99-6c05342d98ff",
        "colab": {
          "base_uri": "https://localhost:8080/",
          "height": 709
        }
      },
      "source": [
        "from sklearn.metrics import plot_confusion_matrix\n",
        "import matplotlib.pyplot as plt\n",
        "titles_options = [(\"Matriz de confusão, sem normalizar\", None),\n",
        "                  (\"Matriz de confusão normalizada\", 'true')]\n",
        "for title, normalize in titles_options:\n",
        "    disp = plot_confusion_matrix(clf_dt, Xdt_testing, ydt_testing,\n",
        "                                 cmap=plt.cm.Blues,\n",
        "                                 normalize=normalize)\n",
        "    disp.ax_.set_title(title)\n",
        "\n",
        "    print(title)\n",
        "    print(disp.confusion_matrix)\n",
        "\n",
        "plt.show()"
      ],
      "execution_count": 71,
      "outputs": [
        {
          "output_type": "stream",
          "text": [
            "Matriz de confusão, sem normalizar\n",
            "[[14  5  0]\n",
            " [ 3 29  0]\n",
            " [ 0  3 18]]\n",
            "Matriz de confusão normalizada\n",
            "[[0.73684211 0.26315789 0.        ]\n",
            " [0.09375    0.90625    0.        ]\n",
            " [0.         0.14285714 0.85714286]]\n"
          ],
          "name": "stdout"
        },
        {
          "output_type": "display_data",
          "data": {
            "image/png": "[encoded data removed]",
            "text/plain": [
              "<Figure size 432x288 with 2 Axes>"
            ]
          },
          "metadata": {
            "tags": [],
            "needs_background": "light"
          }
        },
        {
          "output_type": "display_data",
          "data": {
            "image/png": "[encoded data removed]",
            "text/plain": [
              "<Figure size 432x288 with 2 Axes>"
            ]
          },
          "metadata": {
            "tags": [],
            "needs_background": "light"
          }
        }
      ]
    },
    {
      "cell_type": "markdown",
      "metadata": {
        "id": "U_tcosxuq4WX"
      },
      "source": [
        "**KNN**\n"
      ]
    },
    {
      "cell_type": "code",
      "metadata": {
        "id": "y8PxMbSwq8Zb"
      },
      "source": [
        "\n",
        "from sklearn.model_selection import train_test_split\n",
        "\n",
        "wine_nn = np.array(wine.data[:,[5,6,8,9]])\n",
        "Xnn_training, Xnn_testing, ynn_training, ynn_testing = train_test_split(\n",
        "   wine_nn, wine.target, test_size=0.4\n",
        ")"
      ],
      "execution_count": 72,
      "outputs": []
    },
    {
      "cell_type": "code",
      "metadata": {
        "id": "ZaFd-Rgmrn0g"
      },
      "source": [
        "from sklearn.neighbors import KNeighborsClassifier\n",
        "\n",
        "knn=KNeighborsClassifier(n_neighbors=3)\n"
      ],
      "execution_count": 73,
      "outputs": []
    },
    {
      "cell_type": "code",
      "metadata": {
        "id": "aLyYqXXTsTaD",
        "outputId": "b79b0818-7c57-450f-ccb6-020d1792457c",
        "colab": {
          "base_uri": "https://localhost:8080/"
        }
      },
      "source": [
        "knn.fit(Xnn_training,ynn_training)"
      ],
      "execution_count": 74,
      "outputs": [
        {
          "output_type": "execute_result",
          "data": {
            "text/plain": [
              "KNeighborsClassifier(algorithm='auto', leaf_size=30, metric='minkowski',\n",
              "                     metric_params=None, n_jobs=None, n_neighbors=3, p=2,\n",
              "                     weights='uniform')"
            ]
          },
          "metadata": {
            "tags": []
          },
          "execution_count": 74
        }
      ]
    },
    {
      "cell_type": "code",
      "metadata": {
        "id": "HM_iOo5OsoVj"
      },
      "source": [
        "nn=knn.predict(Xnn_testing)"
      ],
      "execution_count": 75,
      "outputs": []
    },
    {
      "cell_type": "code",
      "metadata": {
        "id": "-78FkPUAsyM1",
        "outputId": "c2bd6118-e5c2-4ae1-aefa-958180fe5778",
        "colab": {
          "base_uri": "https://localhost:8080/",
          "height": 709
        }
      },
      "source": [
        "from sklearn.metrics import plot_confusion_matrix\n",
        "import matplotlib.pyplot as plt\n",
        "titles_options = [(\"Matriz de confusão, sem normalizar\", None),\n",
        "                  (\"Matriz de confusão normalizada\", 'true')]\n",
        "for title, normalize in titles_options:\n",
        "    disp = plot_confusion_matrix(knn, Xnn_testing, ynn_testing,\n",
        "                                 cmap=plt.cm.Blues,\n",
        "                                 normalize=normalize)\n",
        "    disp.ax_.set_title(title)\n",
        "\n",
        "    print(title)\n",
        "    print(disp.confusion_matrix)\n",
        "\n",
        "plt.show()"
      ],
      "execution_count": 76,
      "outputs": [
        {
          "output_type": "stream",
          "text": [
            "Matriz de confusão, sem normalizar\n",
            "[[24  0  0]\n",
            " [ 2 22  0]\n",
            " [ 0  1 23]]\n",
            "Matriz de confusão normalizada\n",
            "[[1.         0.         0.        ]\n",
            " [0.08333333 0.91666667 0.        ]\n",
            " [0.         0.04166667 0.95833333]]\n"
          ],
          "name": "stdout"
        },
        {
          "output_type": "display_data",
          "data": {
            "image/png": "[encoded data removed]",
            "text/plain": [
              "<Figure size 432x288 with 2 Axes>"
            ]
          },
          "metadata": {
            "tags": [],
            "needs_background": "light"
          }
        },
        {
          "output_type": "display_data",
          "data": {
            "image/png": "[encoded data removed]",
            "text/plain": [
              "<Figure size 432x288 with 2 Axes>"
            ]
          },
          "metadata": {
            "tags": [],
            "needs_background": "light"
          }
        }
      ]
    },
    {
      "cell_type": "markdown",
      "metadata": {
        "id": "yULeA3LJvdyM"
      },
      "source": [
        "**K-means**"
      ]
    },
    {
      "cell_type": "code",
      "metadata": {
        "id": "LJt00z6vvhun"
      },
      "source": [
        "from sklearn.cluster import KMeans \n",
        "import pandas as pd\n"
      ],
      "execution_count": 77,
      "outputs": []
    },
    {
      "cell_type": "code",
      "metadata": {
        "id": "8GtXsuXUzR4k"
      },
      "source": [
        "\n",
        "names = ['Class', 'Alcohol', 'Malic acid', 'Ash', 'Alcalinity of ash', 'Magnesium', 'Total phenols', \\\n",
        "'Flavanoids', 'Nonflavanoid phenols', 'Proanthocyanins', 'Color intensity', 'Hue', 'OD280/OD315',\\\n",
        "'Proline']\n",
        "wineM = pd.read_csv('https://archive.ics.uci.edu/ml/machine-learning-databases/wine/wine.data', names = names)"
      ],
      "execution_count": 78,
      "outputs": []
    },
    {
      "cell_type": "code",
      "metadata": {
        "id": "UTPQRCGC6coq",
        "outputId": "7b376eac-e6b3-4b52-e549-ed3a03080746",
        "colab": {
          "base_uri": "https://localhost:8080/",
          "height": 376
        }
      },
      "source": [
        "df=pd.DataFrame(wineM)\n",
        "df.head(10)"
      ],
      "execution_count": 79,
      "outputs": [
        {
          "output_type": "execute_result",
          "data": {
            "text/html": [
              "<div>\n",
              "<style scoped>\n",
              "    .dataframe tbody tr th:only-of-type {\n",
              "        vertical-align: middle;\n",
              "    }\n",
              "\n",
              "    .dataframe tbody tr th {\n",
              "        vertical-align: top;\n",
              "    }\n",
              "\n",
              "    .dataframe thead th {\n",
              "        text-align: right;\n",
              "    }\n",
              "</style>\n",
              "<table border=\"1\" class=\"dataframe\">\n",
              "  <thead>\n",
              "    <tr style=\"text-align: right;\">\n",
              "      <th></th>\n",
              "      <th>Class</th>\n",
              "      <th>Alcohol</th>\n",
              "      <th>Malic acid</th>\n",
              "      <th>Ash</th>\n",
              "      <th>Alcalinity of ash</th>\n",
              "      <th>Magnesium</th>\n",
              "      <th>Total phenols</th>\n",
              "      <th>Flavanoids</th>\n",
              "      <th>Nonflavanoid phenols</th>\n",
              "      <th>Proanthocyanins</th>\n",
              "      <th>Color intensity</th>\n",
              "      <th>Hue</th>\n",
              "      <th>OD280/OD315</th>\n",
              "      <th>Proline</th>\n",
              "    </tr>\n",
              "  </thead>\n",
              "  <tbody>\n",
              "    <tr>\n",
              "      <th>0</th>\n",
              "      <td>1</td>\n",
              "      <td>14.23</td>\n",
              "      <td>1.71</td>\n",
              "      <td>2.43</td>\n",
              "      <td>15.6</td>\n",
              "      <td>127</td>\n",
              "      <td>2.80</td>\n",
              "      <td>3.06</td>\n",
              "      <td>0.28</td>\n",
              "      <td>2.29</td>\n",
              "      <td>5.64</td>\n",
              "      <td>1.04</td>\n",
              "      <td>3.92</td>\n",
              "      <td>1065</td>\n",
              "    </tr>\n",
              "    <tr>\n",
              "      <th>1</th>\n",
              "      <td>1</td>\n",
              "      <td>13.20</td>\n",
              "      <td>1.78</td>\n",
              "      <td>2.14</td>\n",
              "      <td>11.2</td>\n",
              "      <td>100</td>\n",
              "      <td>2.65</td>\n",
              "      <td>2.76</td>\n",
              "      <td>0.26</td>\n",
              "      <td>1.28</td>\n",
              "      <td>4.38</td>\n",
              "      <td>1.05</td>\n",
              "      <td>3.40</td>\n",
              "      <td>1050</td>\n",
              "    </tr>\n",
              "    <tr>\n",
              "      <th>2</th>\n",
              "      <td>1</td>\n",
              "      <td>13.16</td>\n",
              "      <td>2.36</td>\n",
              "      <td>2.67</td>\n",
              "      <td>18.6</td>\n",
              "      <td>101</td>\n",
              "      <td>2.80</td>\n",
              "      <td>3.24</td>\n",
              "      <td>0.30</td>\n",
              "      <td>2.81</td>\n",
              "      <td>5.68</td>\n",
              "      <td>1.03</td>\n",
              "      <td>3.17</td>\n",
              "      <td>1185</td>\n",
              "    </tr>\n",
              "    <tr>\n",
              "      <th>3</th>\n",
              "      <td>1</td>\n",
              "      <td>14.37</td>\n",
              "      <td>1.95</td>\n",
              "      <td>2.50</td>\n",
              "      <td>16.8</td>\n",
              "      <td>113</td>\n",
              "      <td>3.85</td>\n",
              "      <td>3.49</td>\n",
              "      <td>0.24</td>\n",
              "      <td>2.18</td>\n",
              "      <td>7.80</td>\n",
              "      <td>0.86</td>\n",
              "      <td>3.45</td>\n",
              "      <td>1480</td>\n",
              "    </tr>\n",
              "    <tr>\n",
              "      <th>4</th>\n",
              "      <td>1</td>\n",
              "      <td>13.24</td>\n",
              "      <td>2.59</td>\n",
              "      <td>2.87</td>\n",
              "      <td>21.0</td>\n",
              "      <td>118</td>\n",
              "      <td>2.80</td>\n",
              "      <td>2.69</td>\n",
              "      <td>0.39</td>\n",
              "      <td>1.82</td>\n",
              "      <td>4.32</td>\n",
              "      <td>1.04</td>\n",
              "      <td>2.93</td>\n",
              "      <td>735</td>\n",
              "    </tr>\n",
              "    <tr>\n",
              "      <th>5</th>\n",
              "      <td>1</td>\n",
              "      <td>14.20</td>\n",
              "      <td>1.76</td>\n",
              "      <td>2.45</td>\n",
              "      <td>15.2</td>\n",
              "      <td>112</td>\n",
              "      <td>3.27</td>\n",
              "      <td>3.39</td>\n",
              "      <td>0.34</td>\n",
              "      <td>1.97</td>\n",
              "      <td>6.75</td>\n",
              "      <td>1.05</td>\n",
              "      <td>2.85</td>\n",
              "      <td>1450</td>\n",
              "    </tr>\n",
              "    <tr>\n",
              "      <th>6</th>\n",
              "      <td>1</td>\n",
              "      <td>14.39</td>\n",
              "      <td>1.87</td>\n",
              "      <td>2.45</td>\n",
              "      <td>14.6</td>\n",
              "      <td>96</td>\n",
              "      <td>2.50</td>\n",
              "      <td>2.52</td>\n",
              "      <td>0.30</td>\n",
              "      <td>1.98</td>\n",
              "      <td>5.25</td>\n",
              "      <td>1.02</td>\n",
              "      <td>3.58</td>\n",
              "      <td>1290</td>\n",
              "    </tr>\n",
              "    <tr>\n",
              "      <th>7</th>\n",
              "      <td>1</td>\n",
              "      <td>14.06</td>\n",
              "      <td>2.15</td>\n",
              "      <td>2.61</td>\n",
              "      <td>17.6</td>\n",
              "      <td>121</td>\n",
              "      <td>2.60</td>\n",
              "      <td>2.51</td>\n",
              "      <td>0.31</td>\n",
              "      <td>1.25</td>\n",
              "      <td>5.05</td>\n",
              "      <td>1.06</td>\n",
              "      <td>3.58</td>\n",
              "      <td>1295</td>\n",
              "    </tr>\n",
              "    <tr>\n",
              "      <th>8</th>\n",
              "      <td>1</td>\n",
              "      <td>14.83</td>\n",
              "      <td>1.64</td>\n",
              "      <td>2.17</td>\n",
              "      <td>14.0</td>\n",
              "      <td>97</td>\n",
              "      <td>2.80</td>\n",
              "      <td>2.98</td>\n",
              "      <td>0.29</td>\n",
              "      <td>1.98</td>\n",
              "      <td>5.20</td>\n",
              "      <td>1.08</td>\n",
              "      <td>2.85</td>\n",
              "      <td>1045</td>\n",
              "    </tr>\n",
              "    <tr>\n",
              "      <th>9</th>\n",
              "      <td>1</td>\n",
              "      <td>13.86</td>\n",
              "      <td>1.35</td>\n",
              "      <td>2.27</td>\n",
              "      <td>16.0</td>\n",
              "      <td>98</td>\n",
              "      <td>2.98</td>\n",
              "      <td>3.15</td>\n",
              "      <td>0.22</td>\n",
              "      <td>1.85</td>\n",
              "      <td>7.22</td>\n",
              "      <td>1.01</td>\n",
              "      <td>3.55</td>\n",
              "      <td>1045</td>\n",
              "    </tr>\n",
              "  </tbody>\n",
              "</table>\n",
              "</div>"
            ],
            "text/plain": [
              "   Class  Alcohol  Malic acid  ...   Hue  OD280/OD315  Proline\n",
              "0      1    14.23        1.71  ...  1.04         3.92     1065\n",
              "1      1    13.20        1.78  ...  1.05         3.40     1050\n",
              "2      1    13.16        2.36  ...  1.03         3.17     1185\n",
              "3      1    14.37        1.95  ...  0.86         3.45     1480\n",
              "4      1    13.24        2.59  ...  1.04         2.93      735\n",
              "5      1    14.20        1.76  ...  1.05         2.85     1450\n",
              "6      1    14.39        1.87  ...  1.02         3.58     1290\n",
              "7      1    14.06        2.15  ...  1.06         3.58     1295\n",
              "8      1    14.83        1.64  ...  1.08         2.85     1045\n",
              "9      1    13.86        1.35  ...  1.01         3.55     1045\n",
              "\n",
              "[10 rows x 14 columns]"
            ]
          },
          "metadata": {
            "tags": []
          },
          "execution_count": 79
        }
      ]
    },
    {
      "cell_type": "code",
      "metadata": {
        "id": "oDyw5vXr60dV",
        "outputId": "96cb389c-a73b-438e-da8b-ab2a600a96b0",
        "colab": {
          "base_uri": "https://localhost:8080/"
        }
      },
      "source": [
        "print(df.columns.values)"
      ],
      "execution_count": 80,
      "outputs": [
        {
          "output_type": "stream",
          "text": [
            "['Class' 'Alcohol' 'Malic acid' 'Ash' 'Alcalinity of ash' 'Magnesium'\n",
            " 'Total phenols' 'Flavanoids' 'Nonflavanoid phenols' 'Proanthocyanins'\n",
            " 'Color intensity' 'Hue' 'OD280/OD315' 'Proline']\n"
          ],
          "name": "stdout"
        }
      ]
    },
    {
      "cell_type": "code",
      "metadata": {
        "id": "Hb8JSPjC7aEV",
        "outputId": "e3586229-a056-488a-90eb-7c0dacd7af85",
        "colab": {
          "base_uri": "https://localhost:8080/",
          "height": 376
        }
      },
      "source": [
        "X=df.drop('Class', axis=1)\n",
        "X[:10]"
      ],
      "execution_count": 81,
      "outputs": [
        {
          "output_type": "execute_result",
          "data": {
            "text/html": [
              "<div>\n",
              "<style scoped>\n",
              "    .dataframe tbody tr th:only-of-type {\n",
              "        vertical-align: middle;\n",
              "    }\n",
              "\n",
              "    .dataframe tbody tr th {\n",
              "        vertical-align: top;\n",
              "    }\n",
              "\n",
              "    .dataframe thead th {\n",
              "        text-align: right;\n",
              "    }\n",
              "</style>\n",
              "<table border=\"1\" class=\"dataframe\">\n",
              "  <thead>\n",
              "    <tr style=\"text-align: right;\">\n",
              "      <th></th>\n",
              "      <th>Alcohol</th>\n",
              "      <th>Malic acid</th>\n",
              "      <th>Ash</th>\n",
              "      <th>Alcalinity of ash</th>\n",
              "      <th>Magnesium</th>\n",
              "      <th>Total phenols</th>\n",
              "      <th>Flavanoids</th>\n",
              "      <th>Nonflavanoid phenols</th>\n",
              "      <th>Proanthocyanins</th>\n",
              "      <th>Color intensity</th>\n",
              "      <th>Hue</th>\n",
              "      <th>OD280/OD315</th>\n",
              "      <th>Proline</th>\n",
              "    </tr>\n",
              "  </thead>\n",
              "  <tbody>\n",
              "    <tr>\n",
              "      <th>0</th>\n",
              "      <td>14.23</td>\n",
              "      <td>1.71</td>\n",
              "      <td>2.43</td>\n",
              "      <td>15.6</td>\n",
              "      <td>127</td>\n",
              "      <td>2.80</td>\n",
              "      <td>3.06</td>\n",
              "      <td>0.28</td>\n",
              "      <td>2.29</td>\n",
              "      <td>5.64</td>\n",
              "      <td>1.04</td>\n",
              "      <td>3.92</td>\n",
              "      <td>1065</td>\n",
              "    </tr>\n",
              "    <tr>\n",
              "      <th>1</th>\n",
              "      <td>13.20</td>\n",
              "      <td>1.78</td>\n",
              "      <td>2.14</td>\n",
              "      <td>11.2</td>\n",
              "      <td>100</td>\n",
              "      <td>2.65</td>\n",
              "      <td>2.76</td>\n",
              "      <td>0.26</td>\n",
              "      <td>1.28</td>\n",
              "      <td>4.38</td>\n",
              "      <td>1.05</td>\n",
              "      <td>3.40</td>\n",
              "      <td>1050</td>\n",
              "    </tr>\n",
              "    <tr>\n",
              "      <th>2</th>\n",
              "      <td>13.16</td>\n",
              "      <td>2.36</td>\n",
              "      <td>2.67</td>\n",
              "      <td>18.6</td>\n",
              "      <td>101</td>\n",
              "      <td>2.80</td>\n",
              "      <td>3.24</td>\n",
              "      <td>0.30</td>\n",
              "      <td>2.81</td>\n",
              "      <td>5.68</td>\n",
              "      <td>1.03</td>\n",
              "      <td>3.17</td>\n",
              "      <td>1185</td>\n",
              "    </tr>\n",
              "    <tr>\n",
              "      <th>3</th>\n",
              "      <td>14.37</td>\n",
              "      <td>1.95</td>\n",
              "      <td>2.50</td>\n",
              "      <td>16.8</td>\n",
              "      <td>113</td>\n",
              "      <td>3.85</td>\n",
              "      <td>3.49</td>\n",
              "      <td>0.24</td>\n",
              "      <td>2.18</td>\n",
              "      <td>7.80</td>\n",
              "      <td>0.86</td>\n",
              "      <td>3.45</td>\n",
              "      <td>1480</td>\n",
              "    </tr>\n",
              "    <tr>\n",
              "      <th>4</th>\n",
              "      <td>13.24</td>\n",
              "      <td>2.59</td>\n",
              "      <td>2.87</td>\n",
              "      <td>21.0</td>\n",
              "      <td>118</td>\n",
              "      <td>2.80</td>\n",
              "      <td>2.69</td>\n",
              "      <td>0.39</td>\n",
              "      <td>1.82</td>\n",
              "      <td>4.32</td>\n",
              "      <td>1.04</td>\n",
              "      <td>2.93</td>\n",
              "      <td>735</td>\n",
              "    </tr>\n",
              "    <tr>\n",
              "      <th>5</th>\n",
              "      <td>14.20</td>\n",
              "      <td>1.76</td>\n",
              "      <td>2.45</td>\n",
              "      <td>15.2</td>\n",
              "      <td>112</td>\n",
              "      <td>3.27</td>\n",
              "      <td>3.39</td>\n",
              "      <td>0.34</td>\n",
              "      <td>1.97</td>\n",
              "      <td>6.75</td>\n",
              "      <td>1.05</td>\n",
              "      <td>2.85</td>\n",
              "      <td>1450</td>\n",
              "    </tr>\n",
              "    <tr>\n",
              "      <th>6</th>\n",
              "      <td>14.39</td>\n",
              "      <td>1.87</td>\n",
              "      <td>2.45</td>\n",
              "      <td>14.6</td>\n",
              "      <td>96</td>\n",
              "      <td>2.50</td>\n",
              "      <td>2.52</td>\n",
              "      <td>0.30</td>\n",
              "      <td>1.98</td>\n",
              "      <td>5.25</td>\n",
              "      <td>1.02</td>\n",
              "      <td>3.58</td>\n",
              "      <td>1290</td>\n",
              "    </tr>\n",
              "    <tr>\n",
              "      <th>7</th>\n",
              "      <td>14.06</td>\n",
              "      <td>2.15</td>\n",
              "      <td>2.61</td>\n",
              "      <td>17.6</td>\n",
              "      <td>121</td>\n",
              "      <td>2.60</td>\n",
              "      <td>2.51</td>\n",
              "      <td>0.31</td>\n",
              "      <td>1.25</td>\n",
              "      <td>5.05</td>\n",
              "      <td>1.06</td>\n",
              "      <td>3.58</td>\n",
              "      <td>1295</td>\n",
              "    </tr>\n",
              "    <tr>\n",
              "      <th>8</th>\n",
              "      <td>14.83</td>\n",
              "      <td>1.64</td>\n",
              "      <td>2.17</td>\n",
              "      <td>14.0</td>\n",
              "      <td>97</td>\n",
              "      <td>2.80</td>\n",
              "      <td>2.98</td>\n",
              "      <td>0.29</td>\n",
              "      <td>1.98</td>\n",
              "      <td>5.20</td>\n",
              "      <td>1.08</td>\n",
              "      <td>2.85</td>\n",
              "      <td>1045</td>\n",
              "    </tr>\n",
              "    <tr>\n",
              "      <th>9</th>\n",
              "      <td>13.86</td>\n",
              "      <td>1.35</td>\n",
              "      <td>2.27</td>\n",
              "      <td>16.0</td>\n",
              "      <td>98</td>\n",
              "      <td>2.98</td>\n",
              "      <td>3.15</td>\n",
              "      <td>0.22</td>\n",
              "      <td>1.85</td>\n",
              "      <td>7.22</td>\n",
              "      <td>1.01</td>\n",
              "      <td>3.55</td>\n",
              "      <td>1045</td>\n",
              "    </tr>\n",
              "  </tbody>\n",
              "</table>\n",
              "</div>"
            ],
            "text/plain": [
              "   Alcohol  Malic acid   Ash  ...   Hue  OD280/OD315  Proline\n",
              "0    14.23        1.71  2.43  ...  1.04         3.92     1065\n",
              "1    13.20        1.78  2.14  ...  1.05         3.40     1050\n",
              "2    13.16        2.36  2.67  ...  1.03         3.17     1185\n",
              "3    14.37        1.95  2.50  ...  0.86         3.45     1480\n",
              "4    13.24        2.59  2.87  ...  1.04         2.93      735\n",
              "5    14.20        1.76  2.45  ...  1.05         2.85     1450\n",
              "6    14.39        1.87  2.45  ...  1.02         3.58     1290\n",
              "7    14.06        2.15  2.61  ...  1.06         3.58     1295\n",
              "8    14.83        1.64  2.17  ...  1.08         2.85     1045\n",
              "9    13.86        1.35  2.27  ...  1.01         3.55     1045\n",
              "\n",
              "[10 rows x 13 columns]"
            ]
          },
          "metadata": {
            "tags": []
          },
          "execution_count": 81
        }
      ]
    },
    {
      "cell_type": "code",
      "metadata": {
        "id": "uCNgkMaq7mpn",
        "outputId": "74c95162-9f27-4cf5-9f35-2127930a71d2",
        "colab": {
          "base_uri": "https://localhost:8080/"
        }
      },
      "source": [
        "Y=df.Class\n",
        "Y.unique()"
      ],
      "execution_count": 82,
      "outputs": [
        {
          "output_type": "execute_result",
          "data": {
            "text/plain": [
              "array([1, 2, 3])"
            ]
          },
          "metadata": {
            "tags": []
          },
          "execution_count": 82
        }
      ]
    },
    {
      "cell_type": "code",
      "metadata": {
        "id": "ETuN8nnv7vDM",
        "outputId": "69028f92-6a74-4c83-fe40-a8515b1d1b4b",
        "colab": {
          "base_uri": "https://localhost:8080/"
        }
      },
      "source": [
        "\n",
        "kmeans= KMeans(n_clusters=3, init='random')\n",
        "kmeans.fit(X)\n"
      ],
      "execution_count": 83,
      "outputs": [
        {
          "output_type": "execute_result",
          "data": {
            "text/plain": [
              "KMeans(algorithm='auto', copy_x=True, init='random', max_iter=300, n_clusters=3,\n",
              "       n_init=10, n_jobs=None, precompute_distances='auto', random_state=None,\n",
              "       tol=0.0001, verbose=0)"
            ]
          },
          "metadata": {
            "tags": []
          },
          "execution_count": 83
        }
      ]
    },
    {
      "cell_type": "code",
      "metadata": {
        "id": "vSr30uQy95Ie",
        "outputId": "46906523-926f-4f16-99c9-0c8069583ef9",
        "colab": {
          "base_uri": "https://localhost:8080/"
        }
      },
      "source": [
        "kmeans.cluster_centers_"
      ],
      "execution_count": 84,
      "outputs": [
        {
          "output_type": "execute_result",
          "data": {
            "text/plain": [
              "array([[1.38044681e+01, 1.88340426e+00, 2.42617021e+00, 1.70234043e+01,\n",
              "        1.05510638e+02, 2.86723404e+00, 3.01425532e+00, 2.85319149e-01,\n",
              "        1.91042553e+00, 5.70255319e+00, 1.07829787e+00, 3.11404255e+00,\n",
              "        1.19514894e+03],\n",
              "       [1.25166667e+01, 2.49420290e+00, 2.28855072e+00, 2.08231884e+01,\n",
              "        9.23478261e+01, 2.07072464e+00, 1.75840580e+00, 3.90144928e-01,\n",
              "        1.45188406e+00, 4.08695651e+00, 9.41159420e-01, 2.49072464e+00,\n",
              "        4.58231884e+02],\n",
              "       [1.29298387e+01, 2.50403226e+00, 2.40806452e+00, 1.98903226e+01,\n",
              "        1.03596774e+02, 2.11112903e+00, 1.58403226e+00, 3.88387097e-01,\n",
              "        1.50338710e+00, 5.65032258e+00, 8.83967742e-01, 2.36548387e+00,\n",
              "        7.28338710e+02]])"
            ]
          },
          "metadata": {
            "tags": []
          },
          "execution_count": 84
        }
      ]
    },
    {
      "cell_type": "code",
      "metadata": {
        "id": "g9hKAKQE9_PU",
        "outputId": "a91a8fb8-832e-4fb3-d1bf-d62e5652aab6",
        "colab": {
          "base_uri": "https://localhost:8080/"
        }
      },
      "source": [
        "distance=kmeans.fit_transform(X)\n",
        "distance"
      ],
      "execution_count": 85,
      "outputs": [
        {
          "output_type": "execute_result",
          "data": {
            "text/plain": [
              "array([[ 607.78826656,  131.92263323,  337.51294514],\n",
              "       [ 591.8986175 ,  145.37982131,  321.80671905],\n",
              "       [ 726.82863254,   11.28739369,  456.67678488],\n",
              "       [1021.99705832,  284.96039271,  751.73664914],\n",
              "       [ 277.95920208,  460.33893101,   16.04009969],\n",
              "       [ 991.98630372,  254.94342746,  721.73131851],\n",
              "       [ 831.80393541,   95.36352845,  561.74242799],\n",
              "       [ 837.26808124,  101.05475563,  566.93704444],\n",
              "       [ 586.83457297,  150.42534491,  316.79667934],\n",
              "       [ 586.82965136,  150.34962088,  316.74956333],\n",
              "       [1051.85277532,  314.8538496 ,  781.66918816],\n",
              "       [ 821.7853429 ,   85.51018398,  551.74048478],\n",
              "       [ 861.79162135,  125.94312634,  591.85694157],\n",
              "       [ 691.84379355,   47.7821734 ,  421.94830482],\n",
              "       [1088.85729303,  351.91192498,  818.70954344],\n",
              "       [ 852.01095494,  115.04730434,  581.73380738],\n",
              "       [ 822.24027662,   86.1355137 ,  551.91041596],\n",
              "       [ 672.15979227,   65.9146233 ,  401.83157927],\n",
              "       [1221.88892063,  484.86842171,  951.68755298],\n",
              "       [ 387.53865692,  350.31371064,  117.43247378],\n",
              "       [ 323.57507912,  415.6562153 ,   56.51123053],\n",
              "       [ 311.93196033,  425.17421116,   41.77692101],\n",
              "       [ 576.85352998,  160.22721175,  306.70485137],\n",
              "       [ 556.7852155 ,  180.47130738,  286.80860981],\n",
              "       [ 386.79224646,  350.29890849,  116.94614637],\n",
              "       [ 373.14122076,  365.71187129,  103.850816  ],\n",
              "       [ 736.78655947,   12.59701641,  466.80194712],\n",
              "       [ 826.7796088 ,   90.61168422,  556.75544828],\n",
              "       [ 457.01170529,  280.16608138,  186.71068604],\n",
              "       [ 576.8045963 ,  160.44023779,  306.78887964],\n",
              "       [ 826.82071273,   90.13461941,  556.67911569],\n",
              "       [1056.86378979,  319.8607275 ,  786.66940949],\n",
              "       [ 531.91124905,  205.16408183,  261.68729332],\n",
              "       [ 777.78482529,   47.92395236,  507.46128624],\n",
              "       [ 637.01729099,  100.28445267,  366.7240845 ],\n",
              "       [ 461.83755888,  275.22722508,  191.70844887],\n",
              "       [ 422.17461448,  315.18827565,  151.87251048],\n",
              "       [ 646.80031133,   90.48782477,  376.71245065],\n",
              "       [ 561.82397654,  175.33260951,  291.75889785],\n",
              "       [ 303.97930816,  435.75248682,   40.63908283],\n",
              "       [ 337.71709794,  400.31558962,   68.14679238],\n",
              "       [ 576.77986163,  160.92865457,  306.97380672],\n",
              "       [ 636.8613782 ,  100.27510378,  366.71410732],\n",
              "       [ 222.05814784,  515.1619504 ,   48.46095178],\n",
              "       [ 427.04282463,  310.1545356 ,  156.74109177],\n",
              "       [ 622.05784466,  115.31964748,  351.75034288],\n",
              "       [ 606.87244249,  130.21667929,  336.70142127],\n",
              "       [ 526.87224385,  210.20133086,  256.71853981],\n",
              "       [ 601.87407114,  135.1866325 ,  331.67123898],\n",
              "       [ 801.94714775,   64.98151774,  531.70185829],\n",
              "       [ 691.83083728,   47.3969069 ,  421.89758955],\n",
              "       [ 806.78294999,   70.79694654,  536.75891234],\n",
              "       [ 732.05058629,    8.31868398,  461.77126703],\n",
              "       [ 917.06049126,  180.10288827,  646.77110748],\n",
              "       [ 602.33702962,  135.72736329,  331.99846008],\n",
              "       [ 662.19793789,   75.96208792,  391.86435138],\n",
              "       [ 512.44290143,  225.49814963,  242.13169417],\n",
              "       [ 811.84033396,   74.93786753,  541.67652164],\n",
              "       [ 826.93618145,   89.89867887,  556.6965611 ],\n",
              "       [  62.8453844 ,  675.4278592 ,  209.17622691],\n",
              "       [ 222.00050871,  515.18676377,   48.6686912 ],\n",
              "       [  12.1775839 ,  745.17548279,  278.38449516],\n",
              "       [ 171.81005321,  565.27426673,   98.85711696],\n",
              "       [  38.72867528,  775.37551358,  308.80006073],\n",
              "       [ 103.91834179,  840.16138084,  373.35289666],\n",
              "       [ 219.86542557,  517.20922208,   50.7276205 ],\n",
              "       [  46.51717843,  693.69913874,  227.85050161],\n",
              "       [  53.76626572,  685.71050956,  219.84549962],\n",
              "       [ 292.3364857 ,  445.18760474,   22.99999191],\n",
              "       [ 266.34797124,  479.32922963,   48.74313566],\n",
              "       [ 411.91077065,  325.20455253,  141.69752099],\n",
              "       [  48.89060285,  785.43545801,  318.8819868 ],\n",
              "       [  15.17692472,  723.42448515,  256.91850515],\n",
              "       [ 528.91499088,  213.21161293,  259.30959757],\n",
              "       [ 427.86198831,  309.22582597,  157.72307103],\n",
              "       [  30.9959647 ,  767.20574997,  300.44667665],\n",
              "       [  66.73676963,  803.39009886,  336.82790508],\n",
              "       [  46.28181654,  695.19409867,  228.52501951],\n",
              "       [ 295.08491263,  446.21103147,   39.4302895 ],\n",
              "       [  10.41618844,  732.19762525,  265.39551717],\n",
              "       [ 180.37036469,  917.36713277,  450.69972071],\n",
              "       [ 255.85829916,  481.55301816,   22.84147284],\n",
              "       [ 172.4126663 ,  565.87802246,  101.77151763],\n",
              "       [  57.29401188,  680.48771657,  214.17059334],\n",
              "       [  61.90006535,  675.25759087,  208.59754945],\n",
              "       [  11.18237921,  745.18705479,  278.40552715],\n",
              "       [  36.94875427,  700.3568559 ,  233.7782527 ],\n",
              "       [ 104.00974146,  633.46856596,  167.21794369],\n",
              "       [ 221.93273307,  515.63388843,   52.28580804],\n",
              "       [ 168.3044265 ,  571.31063943,  108.80978224],\n",
              "       [  24.73678412,  715.58338918,  249.39278792],\n",
              "       [  10.5668579 ,  745.42984036,  278.91446152],\n",
              "       [  38.82306651,  700.63342568,  234.54830201],\n",
              "       [ 168.32752211,  905.32802404,  438.63677313],\n",
              "       [ 113.4222884 ,  850.1895946 ,  383.39666826],\n",
              "       [ 483.81885923,  264.29193084,  216.71575862],\n",
              "       [ 171.90482078,  570.89620338,  107.78667296],\n",
              "       [  31.54342898,  767.43100196,  300.9568762 ],\n",
              "       [ 201.84983206,  535.44238662,   70.18721686],\n",
              "       [  52.56489049,  789.35431042,  322.74747103],\n",
              "       [ 251.83673522,  485.23489249,   19.83315094],\n",
              "       [ 103.90834716,  633.40678809,  167.11203166],\n",
              "       [  21.07659064,  757.20476092,  290.41204112],\n",
              "       [  43.77903628,  780.40978789,  313.85686523],\n",
              "       [ 213.90212784,  523.57344355,   59.41521358],\n",
              "       [ 143.26583999,  880.30798508,  413.57998435],\n",
              "       [  53.26944593,  685.63411906,  219.62852596],\n",
              "       [  30.98997943,  707.50528525,  241.16443619],\n",
              "       [ 146.25879936,  883.26208158,  416.51546376],\n",
              "       [ 221.79347833,  515.30056368,   49.44563881],\n",
              "       [ 104.85776692,  633.17167378,  166.42891302],\n",
              "       [ 133.32175694,  870.34395804,  403.65962454],\n",
              "       [ 149.15647019,  588.17214225,  121.36413543],\n",
              "       [  24.7339726 ,  761.37120235,  294.77478823],\n",
              "       [  73.75264462,  810.46067252,  343.92360756],\n",
              "       [  51.85082724,  788.44354373,  321.91206722],\n",
              "       [  37.4049709 ,  700.44616978,  234.03964656],\n",
              "       [ 114.34399001,  850.18024137,  383.39200415],\n",
              "       [  87.25946039,  823.55445289,  357.15016573],\n",
              "       [ 105.96428502,  631.44563861,  165.24244686],\n",
              "       [ 166.82389917,  570.24657812,  103.67168887],\n",
              "       [  28.88980542,  730.37093227,  263.96364178],\n",
              "       [  93.94771793,  830.2242571 ,  363.42674172],\n",
              "       [  78.58919543,  815.41059657,  348.81883083],\n",
              "       [  78.98401189,  815.5095326 ,  349.03627676],\n",
              "       [  80.59142946,  817.42357022,  350.85009231],\n",
              "       [ 106.44057353,  843.38974611,  376.76303063],\n",
              "       [  11.03863947,  729.37348945,  262.75341703],\n",
              "       [ 116.3945815 ,  853.37066937,  386.69981942],\n",
              "       [ 122.42171623,  615.71523645,  150.26329126],\n",
              "       [ 174.34241488,  565.40185652,  100.09243717],\n",
              "       [  72.74412477,  665.1663326 ,  198.34540664],\n",
              "       [ 102.00282444,  635.24128973,  168.49001606],\n",
              "       [ 142.44074392,  595.17750305,  128.38510357],\n",
              "       [ 191.95299858,  545.54592298,   80.57434739],\n",
              "       [ 236.809977  ,  500.29796515,   34.78315309],\n",
              "       [ 261.80725486,  475.48114566,   17.2038077 ],\n",
              "       [  57.14642066,  680.28069849,  213.56181814],\n",
              "       [ 121.88337005,  615.41442133,  149.16942072],\n",
              "       [ 132.10170988,  605.21512941,  138.43258526],\n",
              "       [ 141.82634037,  595.24924752,  128.58131206],\n",
              "       [ 321.79553483,  415.50141451,   53.70877221],\n",
              "       [  62.03745092,  675.24448534,  208.48646692],\n",
              "       [  91.81964624,  645.31180858,  178.74055476],\n",
              "       [ 397.28756476,  340.24631373,  126.98854847],\n",
              "       [ 371.89905892,  365.21054074,  101.70946254],\n",
              "       [  45.12672879,  780.58845705,  314.24602653],\n",
              "       [ 166.94901103,  570.51956089,  104.88758213],\n",
              "       [ 191.82686637,  545.35157118,   79.27069169],\n",
              "       [  94.23927906,  645.22891035,  178.64371015],\n",
              "       [  52.13593393,  695.4170382 ,  229.22305971],\n",
              "       [  30.14087774,  715.22070782,  248.54626525],\n",
              "       [  41.19931629,  770.27318657,  303.65039829],\n",
              "       [ 216.95752609,  520.23833993,   53.8926186 ],\n",
              "       [ 182.12743014,  555.17738413,   88.38429024],\n",
              "       [ 266.81801092,  470.36961046,   11.92451958],\n",
              "       [  22.74346654,  715.36087564,  248.7998447 ],\n",
              "       [ 421.85593284,  315.44713817,  151.98975827],\n",
              "       [ 202.10416679,  535.31603564,   69.18559865],\n",
              "       [ 162.00454273,  575.44907176,  109.53064012],\n",
              "       [  62.05368201,  675.40086281,  208.94261614],\n",
              "       [ 222.27029457,  515.17135423,   48.49105628],\n",
              "       [ 112.62708595,  625.17872231,  158.37798862],\n",
              "       [ 217.22153433,  520.1645888 ,   53.43970639],\n",
              "       [ 156.89982754,  580.40046098,  114.25127282],\n",
              "       [  62.05927661,  675.41193758,  208.95597259],\n",
              "       [ 237.61184668,  500.25141812,   34.70225278],\n",
              "       [ 226.90479017,  510.48899295,   46.32084567],\n",
              "       [ 292.10628512,  445.23200599,   22.43225546],\n",
              "       [ 173.01483107,  565.26264326,   98.89885483],\n",
              "       [  51.98369474,  685.22958402,  218.48114123],\n",
              "       [  14.76375926,  725.43732396,  258.97851136],\n",
              "       [ 201.864171  ,  535.3781133 ,   69.62992994],\n",
              "       [ 281.82826173,  455.31456075,   15.05888115],\n",
              "       [ 291.9618116 ,  445.22077717,   22.08712746],\n",
              "       [ 377.83995867,  360.50293189,  108.03486154],\n",
              "       [ 382.80813384,  355.4899004 ,  112.92650929],\n",
              "       [ 102.06407165,  635.28460034,  168.62673554]])"
            ]
          },
          "metadata": {
            "tags": []
          },
          "execution_count": 85
        }
      ]
    },
    {
      "cell_type": "code",
      "metadata": {
        "id": "vD1tDIJDAFyJ",
        "outputId": "e6d7e619-f21c-4280-ef2d-80b56f44a6b3",
        "colab": {
          "base_uri": "https://localhost:8080/"
        }
      },
      "source": [
        "labels = kmeans.labels_\n",
        "labels"
      ],
      "execution_count": 86,
      "outputs": [
        {
          "output_type": "execute_result",
          "data": {
            "text/plain": [
              "array([1, 1, 1, 1, 2, 1, 1, 1, 1, 1, 1, 1, 1, 1, 1, 1, 1, 1, 1, 2, 2, 2,\n",
              "       1, 1, 2, 2, 1, 1, 2, 1, 1, 1, 1, 1, 1, 2, 2, 1, 1, 2, 2, 1, 1, 2,\n",
              "       2, 1, 1, 1, 1, 1, 1, 1, 1, 1, 1, 1, 1, 1, 1, 0, 2, 0, 2, 0, 0, 2,\n",
              "       0, 0, 2, 2, 2, 0, 0, 1, 2, 0, 0, 0, 2, 0, 0, 2, 2, 0, 0, 0, 0, 0,\n",
              "       2, 2, 0, 0, 0, 0, 0, 2, 2, 0, 2, 0, 2, 0, 0, 0, 2, 0, 0, 0, 0, 2,\n",
              "       0, 0, 2, 0, 0, 0, 0, 0, 0, 0, 2, 0, 0, 0, 0, 0, 0, 0, 0, 0, 2, 0,\n",
              "       0, 2, 2, 2, 2, 0, 0, 0, 2, 2, 0, 0, 2, 2, 0, 2, 2, 0, 0, 0, 0, 2,\n",
              "       2, 2, 0, 2, 2, 2, 0, 2, 0, 2, 2, 0, 2, 2, 2, 2, 0, 0, 2, 2, 2, 2,\n",
              "       2, 0], dtype=int32)"
            ]
          },
          "metadata": {
            "tags": []
          },
          "execution_count": 86
        }
      ]
    }
  ]
}