{
  "nbformat": 4,
  "nbformat_minor": 0,
  "metadata": {
    "colab": {
      "name": "Inferência_Mayara.ipynb",
      "provenance": [],
      "authorship_tag": "ABX9TyNHwF/sgqfRCnN02kQwAI/z",
      "include_colab_link": true
    },
    "kernelspec": {
      "name": "python3",
      "display_name": "Python 3"
    }
  },
  "cells": [
    {
      "cell_type": "markdown",
      "metadata": {
        "id": "view-in-github",
        "colab_type": "text"
      },
      "source": [
        "<a href=\"https://colab.research.google.com/github/Mayaraassis/IA/blob/master/Infer%C3%AAncia_Mayara.ipynb\" target=\"_parent\"><img src=\"https://colab.research.google.com/assets/colab-badge.svg\" alt=\"Open In Colab\"/></a>"
      ]
    },
    {
      "cell_type": "code",
      "metadata": {
        "id": "prBDIYFlxLhR",
        "outputId": "f7067f12-72cc-40a6-be8c-1be6961bea28",
        "colab": {
          "base_uri": "https://localhost:8080/",
          "height": 309
        }
      },
      "source": [
        "!pip install pomegranate\n"
      ],
      "execution_count": null,
      "outputs": [
        {
          "output_type": "stream",
          "text": [
            "Collecting pomegranate\n",
            "\u001b[?25l  Downloading https://files.pythonhosted.org/packages/67/a1/17396f2bf7e00054ed00fa0667c2a28b3d71a97d4569bacc959abb458212/pomegranate-0.13.5.tar.gz (4.5MB)\n",
            "\u001b[K     |████████████████████████████████| 4.5MB 2.7MB/s \n",
            "\u001b[?25hRequirement already satisfied: numpy>=1.8.0 in /usr/local/lib/python3.6/dist-packages (from pomegranate) (1.18.5)\n",
            "Requirement already satisfied: joblib>=0.9.0b4 in /usr/local/lib/python3.6/dist-packages (from pomegranate) (0.16.0)\n",
            "Requirement already satisfied: networkx>=2.0 in /usr/local/lib/python3.6/dist-packages (from pomegranate) (2.5)\n",
            "Requirement already satisfied: scipy>=0.17.0 in /usr/local/lib/python3.6/dist-packages (from pomegranate) (1.4.1)\n",
            "Requirement already satisfied: pyyaml in /usr/local/lib/python3.6/dist-packages (from pomegranate) (3.13)\n",
            "Requirement already satisfied: decorator>=4.3.0 in /usr/local/lib/python3.6/dist-packages (from networkx>=2.0->pomegranate) (4.4.2)\n",
            "Building wheels for collected packages: pomegranate\n",
            "  Building wheel for pomegranate (setup.py) ... \u001b[?25l\u001b[?25hdone\n",
            "  Created wheel for pomegranate: filename=pomegranate-0.13.5-cp36-cp36m-linux_x86_64.whl size=15238251 sha256=09cd125e6c303af0d8b0f2c13048b62de779061e7f0da041a0a0a552c3f66fcf\n",
            "  Stored in directory: /root/.cache/pip/wheels/99/d9/0a/0758302ccad41a61aa08ae4985b84d4cab5086e99c92a68560\n",
            "Successfully built pomegranate\n",
            "Installing collected packages: pomegranate\n",
            "Successfully installed pomegranate-0.13.5\n"
          ],
          "name": "stdout"
        }
      ]
    },
    {
      "cell_type": "code",
      "metadata": {
        "id": "YBeluWN9xmfW",
        "outputId": "65d76b77-5588-43f0-8840-254fd1a3016d",
        "colab": {
          "base_uri": "https://localhost:8080/",
          "height": 54
        }
      },
      "source": [
        "from pomegranate import *\n",
        "#probabilidade inicial\n",
        "d1 = DiscreteDistribution({'sol': 0.25, 'chuva': 0.75})\n",
        "#tabela de transicao\n",
        "d2 = ConditionalProbabilityTable([[\"sol\", \"sol\", 0.9],\n",
        "                                  [\"sol\", \"chuva\", 0.1],\n",
        "                                  [\"chuva\", \"sol\", 0.6],\n",
        "                                  [\"chuva\", \"chuva\", 0.4]], [d1])\n",
        "\n",
        "#gerando o modelo\n",
        "model = MarkovChain([d1, d2])\n",
        "#gerando as amostras\n",
        "print(model.sample(100))"
      ],
      "execution_count": null,
      "outputs": [
        {
          "output_type": "stream",
          "text": [
            "['chuva', 'sol', 'sol', 'sol', 'sol', 'chuva', 'chuva', 'chuva', 'sol', 'sol', 'sol', 'sol', 'sol', 'sol', 'chuva', 'chuva', 'chuva', 'sol', 'chuva', 'sol', 'sol', 'sol', 'sol', 'sol', 'sol', 'sol', 'sol', 'sol', 'sol', 'chuva', 'chuva', 'sol', 'sol', 'chuva', 'chuva', 'sol', 'sol', 'sol', 'sol', 'chuva', 'sol', 'sol', 'sol', 'chuva', 'chuva', 'chuva', 'sol', 'sol', 'sol', 'chuva', 'sol', 'sol', 'sol', 'sol', 'sol', 'sol', 'sol', 'sol', 'sol', 'sol', 'sol', 'sol', 'sol', 'sol', 'sol', 'sol', 'chuva', 'sol', 'sol', 'sol', 'sol', 'sol', 'sol', 'sol', 'chuva', 'sol', 'sol', 'sol', 'sol', 'sol', 'sol', 'sol', 'sol', 'sol', 'sol', 'sol', 'sol', 'sol', 'sol', 'sol', 'sol', 'chuva', 'sol', 'sol', 'sol', 'chuva', 'chuva', 'chuva', 'chuva', 'chuva']\n"
          ],
          "name": "stdout"
        }
      ]
    }
  ]
}